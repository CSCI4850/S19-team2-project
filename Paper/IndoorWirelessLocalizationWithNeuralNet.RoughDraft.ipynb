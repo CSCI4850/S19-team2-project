{
 "cells": [
  {
   "cell_type": "markdown",
   "metadata": {},
   "source": [
    "Indoor Wireless Localization with Neural Net"
   ]
  },
  {
   "cell_type": "markdown",
   "metadata": {},
   "source": [
    "Authors: Manoj Basnet, Steven Hearne, Lian Sang, Gregory Wagner"
   ]
  },
  {
   "cell_type": "markdown",
   "metadata": {},
   "source": [
    "ABSTRACT:\n",
    "    \n",
    "The next generation of GPS like navigation lies within the doorstep of modern buildings. With the use of mobile devices and the trending of friendly-user applications, indoor wireless localization is a possibility in today's society."
   ]
  },
  {
   "cell_type": "markdown",
   "metadata": {},
   "source": [
    "I. INTRODUCTION:\n",
    "\n",
    "For GPS has been a very functional tool that provides many beneficial factors for society from advancing technology of auto-pilot vehicles to calculation on movements of the Earth's surface, as to indoor localization the potential may also be numerous, especially for civilians. Knowing that many buildings in today's populated cities, such as residential houses and commercial zones are equipped with wireless technology, by taking a step further to advancement of navigation could possibly be another breakthrough in the waiting. Imagine a single tap away from navigating indoor without the help of another person except for a turn-by-turn visualization mapping that feeds out, the benefit can be viewed quite substantial to several fields, whether it is for public safety or private investment. With the capability that indoor wireless localization holds, the technology extends the nature of safety by monitoring senior citizens and children from endangerment. As for luxurious use of the localization technology, many commercially-based companies may lure in consumers based on their current location by the user's shopping interests. It is a win-win situation for consumers and merchandisers with the help of indoor localization technology."
   ]
  },
  {
   "cell_type": "markdown",
   "metadata": {},
   "source": [
    "As unfortunate as today's GPS systems are not meant to be used for indoor environment, it is time that the tech community introduce a new method of wireless localization inside buildings. However, it is a bold move to choose any type of wireless method of navigation to alternate an indoor version of GPS. Since WiFi signals are being used nearly everywhere in modern environment, it is ideally a smart choice considering the user's device is already equipped with built-in WiFi capable features. After deciding the systematic signals for wirelesss localization, selecting an appropriate method of techniques is severely important. Depending on the different types of mapping the techniques are varies. According to [Lei Miao], the most representable type of mapping would be geomatric mapping due to the complexity of environment, therefore the specific mapping will require fingerprinting methods."
   ]
  },
  {
   "cell_type": "markdown",
   "metadata": {},
   "source": [
    "II. BACKGROUND:"
   ]
  }
 ],
 "metadata": {
  "kernelspec": {
   "display_name": "Python 3",
   "language": "python",
   "name": "python3"
  },
  "language_info": {
   "codemirror_mode": {
    "name": "ipython",
    "version": 3
   },
   "file_extension": ".py",
   "mimetype": "text/x-python",
   "name": "python",
   "nbconvert_exporter": "python",
   "pygments_lexer": "ipython3",
   "version": "3.6.7"
  }
 },
 "nbformat": 4,
 "nbformat_minor": 2
}
