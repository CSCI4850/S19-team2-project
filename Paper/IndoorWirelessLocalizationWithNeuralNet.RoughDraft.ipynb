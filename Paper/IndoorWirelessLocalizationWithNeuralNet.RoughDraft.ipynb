{
 "cells": [
  {
   "cell_type": "markdown",
   "metadata": {},
   "source": [
    "Indoor Wireless Localization with Neural Net"
   ]
  },
  {
   "cell_type": "markdown",
   "metadata": {},
   "source": [
    "Authors: Manoj Basnet, Steven Hearne, Lian Sang, Gregory Wagner"
   ]
  },
  {
   "cell_type": "markdown",
   "metadata": {},
   "source": [
    "ABSTRACT:\n",
    "    \n",
    "The next generation of GPS like navigation lies within the doorstep of modern buildings. With the use of mobile devices and the trending of friendly-user applications, indoor wireless localization is a possibility in today's society."
   ]
  },
  {
   "cell_type": "markdown",
   "metadata": {},
   "source": [
    "I. INTRODUCTION:\n",
    "\n",
    "For GPS has been a very functional tool that provides many beneficial factors for society from advancing technology of auto-pilot vehicles to calculation on movements of the Earth's surface, as to indoor localization the potential may also be numerous, especially for civilians. Knowing that many buildings in today's populated cities, such as residential houses and commercial zones are equipped with wireless technology, by taking a step further to advancement of navigation could possibly be another breakthrough in the waiting. Imagine a single tap away from navigating indoor without the help of another person except for a turn-by-turn visualization mapping that feeds out, the benefit can be viewed quite substantial to several fields, whether it is for public safety or private investment. With the capability that indoor wireless localization holds, the technology extends the nature of safety by monitoring senior citizens and children from endangerment. As for luxurious use of the localization technology, many commercially-based companies may lure in consumers based on their current location by the user's shopping interests. It is a win-win situation for consumers and merchandisers with the help of indoor localization technology."
   ]
  },
  {
   "cell_type": "markdown",
   "metadata": {},
   "source": [
    "As unfortunate as today's GPS systems are not meant to be used for indoor environment, it is time that the tech community introduce a new method of wireless localization for inside buildings. Starting with the selection of signal, which is a crucial drawbacks of GPS for indoor, there are several signal types that can accommodate indoor localization: common ones like FM radio that got used in [1] and the used of visible light in [2], and a potential signal that could extend GPS signal with pseudolite in [3]. Given that these various types of signal could possibly extend the navigation dream, WiFi signal that is used in [4] could potentially be the best candidate for this project. Since WiFi signals are being used nearly everywhere in our modernize environment, it is ideally a smart choice also considering the fact that a user's device, such as a smartphone or tablet, is already equipped with built-in WiFi capable hardware.\n",
    "After deciding the systematic signals for wirelesss localization, techniques and methods are w When it comes to the localization of indoor wireless, there is also a selection for the techniques in which that can be done. Therefore, just like selecting a signal type, it can be such a bold move to choose any type of wireless method of navigation to alternate an indoor version of GPS. This is because there are several techniques for wireless indoor localization, which can be found in [5], for each with different drawbacks. As for the convenience of measurement issue, mapping methods are required due to the conversion of physical measurements to environmental locations. selecting an appropriate method of techniques is severely important. Depending on the different types of mapping the techniques are varies. According to [4], the most representable type of mapping would be geomatric mapping due to the complexity of the environment, therefore the specific mapping will require fingerprinting methods."
   ]
  },
  {
   "cell_type": "markdown",
   "metadata": {},
   "source": [
    "II. BACKGROUND:\n",
    "\n"
   ]
  }
 ],
 "metadata": {
  "kernelspec": {
   "display_name": "Python 3",
   "language": "python",
   "name": "python3"
  },
  "language_info": {
   "codemirror_mode": {
    "name": "ipython",
    "version": 3
   },
   "file_extension": ".py",
   "mimetype": "text/x-python",
   "name": "python",
   "nbconvert_exporter": "python",
   "pygments_lexer": "ipython3",
   "version": "3.6.7"
  }
 },
 "nbformat": 4,
 "nbformat_minor": 2
}
