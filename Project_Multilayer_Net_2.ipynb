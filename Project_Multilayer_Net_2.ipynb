{
 "cells": [
  {
   "cell_type": "code",
   "execution_count": 31,
   "metadata": {},
   "outputs": [
    {
     "name": "stdout",
     "output_type": "stream",
     "text": [
      "(114, 9)\n"
     ]
    }
   ],
   "source": [
    "import numpy as np\n",
    "import keras\n",
    "import pandas\n",
    "from keras_tqdm import TQDMNotebookCallback\n",
    "from sklearn import preprocessing\n",
    "\n",
    "data = np.array(pandas.read_csv(\"~/S19-team2-project/new_trainingdata.csv\", header=0))\n",
    "## Have to drop all the rows that have nan values because they will not help with net\n",
    "## clean out rows with nan values\n",
    "data = data[~np.isnan(data).any(axis=1)]\n",
    "\n",
    "print(data.shape)\n"
   ]
  },
  {
   "cell_type": "code",
   "execution_count": 32,
   "metadata": {},
   "outputs": [
    {
     "name": "stdout",
     "output_type": "stream",
     "text": [
      "(114, 8)\n"
     ]
    },
    {
     "data": {
      "text/plain": [
       "array([[-0.3092873 ,  0.44011108,  0.63664779,  0.1816632 , -1.49788926,\n",
       "        -0.75873607, -1.98651828,  0.11548844],\n",
       "       [-0.13867241,  0.03796099,  0.76509571, -0.20275434, -1.79786928,\n",
       "        -1.13764933, -2.19837621,  0.62769181],\n",
       "       [-0.07232217, -0.21795271,  0.10896985,  0.10558057, -1.74549182,\n",
       "        -0.77921787, -0.82944808,  0.25936579],\n",
       "       [ 0.33904929, -1.70517687, -1.22758282, -1.17447646, -0.98363779,\n",
       "        -0.85090416,  1.58247291, -1.16789753],\n",
       "       [-0.13867241, -1.59988666, -1.51919432, -1.17447646, -0.72651206,\n",
       "        -0.27741382,  1.3217247 , -1.16789753],\n",
       "       [-0.33772312, -1.86311217, -1.46451716, -1.49215485, -0.81222064,\n",
       "        -1.13764933,  1.71284702, -0.84561226],\n",
       "       [-0.47042359, -1.59988666, -1.17550934, -1.14457732, -0.86935969,\n",
       "        -0.63584529,  1.06097648, -1.02977527],\n",
       "       [ 0.12672854, -1.07343563, -1.44629144, -1.43609395, -0.94554509,\n",
       "        -1.28102192,  0.73504121, -1.21393828],\n",
       "       [-0.51189249, -0.5469846 , -1.11302117, -1.1317634 , -0.94554509,\n",
       "        -1.78282597,  0.53948005, -1.25997903],\n",
       "       [ 0.08525964, -0.81021011, -1.08177708, -0.98760682, -0.86935969,\n",
       "        -2.06957114,  0.73504121, -1.35206054],\n",
       "       [ 0.15990365, -0.81021011, -1.39421796, -0.98760682, -1.0598232 ,\n",
       "        -1.20933563,  1.06097648, -1.21393828],\n",
       "       [ 0.45847972, -0.75756501, -0.90681018, -0.96518246, -1.1360086 ,\n",
       "        -1.63945338,  0.66985416, -1.25997903],\n",
       "       [ 0.01061562, -0.61279098, -0.90681018, -1.02498075, -1.02173049,\n",
       "        -1.78282597,  0.80022827, -1.12185678],\n",
       "       [-0.36260446, -0.92302105, -0.95055191, -1.01003118, -0.94554509,\n",
       "        -1.71113967,  0.86541532, -1.07581603],\n",
       "       [-0.58653651, -0.32136273, -1.08177708, -1.17447646, -0.98363779,\n",
       "        -0.63584529,  1.06097648, -1.07581603],\n",
       "       [ 0.39212948, -0.84781376, -1.19113139, -1.32397217, -0.98363779,\n",
       "        -0.99427675,  0.93060238, -1.16789753],\n",
       "       [-0.3092873 , -0.63472644, -1.37338857, -1.88458109, -1.2883794 ,\n",
       "        -1.56776709,  0.34391889, -1.16789753],\n",
       "       [-0.73582454, -0.5469846 , -1.24580854, -1.29905622, -1.0598232 ,\n",
       "        -0.77921787,  0.73504121, -0.75353076],\n",
       "       [-0.28796044, -0.37150092, -1.17550934, -1.27912346, -1.15505495,\n",
       "        -1.20933563,  0.66985416, -0.86863264],\n",
       "       [ 0.08525964, -1.07343563, -0.91774561, -1.02498075, -1.1360086 ,\n",
       "        -0.99427675,  0.34391889, -1.35206054],\n",
       "       [-0.33772312, -0.65227481, -1.22758282, -1.38003306, -1.0979159 ,\n",
       "        -1.13764933,  0.40910594, -1.16789753],\n",
       "       [ 0.68241177, -0.81021011, -1.24580854, -1.18942603, -0.83126699,\n",
       "        -0.92259046,  0.53948005, -1.35206054],\n",
       "       [ 0.60776775, -0.94182287, -1.62854863, -0.98760682, -0.94554509,\n",
       "        -1.28102192,  0.60466711, -1.02977527],\n",
       "       [-0.06402839, -0.47177731, -1.11822851, -1.02498075, -1.0598232 ,\n",
       "        -1.28102192,  1.71284702, -1.25997903],\n",
       "       [ 0.60776775, -0.96814542, -1.64417067, -1.45851831, -1.1360086 ,\n",
       "        -1.20933563,  0.86541532, -1.21393828],\n",
       "       [-0.00597194, -0.63472644, -1.22758282, -1.0997286 , -1.0598232 ,\n",
       "        -0.99427675,  1.06097648, -1.43838695],\n",
       "       [-0.20502265, -0.5469846 , -1.40984001, -0.95023289, -1.212194  ,\n",
       "        -1.17349248,  0.86541532, -1.4901828 ],\n",
       "       [-0.61639411, -1.07343563, -0.95680072, -1.05487989, -1.0979159 ,\n",
       "        -1.92619855,  1.19135059, -1.02977527],\n",
       "       [-0.73582454, -1.00762925, -0.90681018, -1.13710253, -1.0979159 ,\n",
       "        -1.28102192,  1.06097648, -1.12185678],\n",
       "       [-0.28796044, -0.72246828, -0.86306846, -1.01003118, -0.75508159,\n",
       "        -0.56415899,  0.73504121, -1.35206054],\n",
       "       [ 0.62909461, -0.63472644, -1.08177708, -1.0997286 , -0.79317429,\n",
       "        -0.4924727 ,  0.80022827, -1.25997903],\n",
       "       [-0.07232217, -1.28401604, -1.02709992, -1.02498075, -1.0598232 ,\n",
       "        -0.42078641,  1.38691175, -0.43124549],\n",
       "       [ 0.65753043, -1.16117747, -1.24580854, -1.21185039, -1.02173049,\n",
       "        -0.34910012,  1.77803407, -0.93769377],\n",
       "       [-1.33297667, -0.98569379, -1.33693713, -1.32397217, -0.98363779,\n",
       "        -0.27741382,  1.90840818, -1.12185678],\n",
       "       [-0.4799022 , -0.81021011, -1.19113139, -1.0997286 , -1.02173049,\n",
       "        -0.70753158,  2.1691564 , -1.39810129],\n",
       "       [ 0.45847972, -0.74440374, -1.11302117, -1.17447646, -0.86935969,\n",
       "        -0.92259046,  1.38691175, -1.16789753],\n",
       "       [-0.39459475, -0.96814542, -0.97242277, -0.96518246, -1.0979159 ,\n",
       "        -1.28102192,  0.66985416, -1.16789753],\n",
       "       [ 0.12672854, -1.20504839, -0.93597133, -1.0997286 , -1.0979159 ,\n",
       "        -1.28102192,  0.73504121, -1.30601979],\n",
       "       [-1.10904462, -0.87601649, -0.86306846, -0.87548504, -1.2883794 ,\n",
       "        -0.92259046,  0.60466711, -0.98373452],\n",
       "       [-0.06402839, -1.24891931, -1.44629144, -1.47346788, -1.44075021,\n",
       "        -0.56415899,  0.66985416, -1.16789753],\n",
       "       [-2.90050101, -0.5469846 , -1.0544385 , -0.7913937 , -1.212194  ,\n",
       "         0.22439022,  1.12616354, -1.30601979],\n",
       "       [-2.44197348, -1.07343563, -0.58968268, -0.98760682, -0.94554509,\n",
       "        -0.27741382,  0.86541532, -1.16789753],\n",
       "       [-0.07232217, -0.09574086, -1.08177708, -1.03565901, -1.0979159 ,\n",
       "        -0.06235495,  1.25653764, -1.12185678],\n",
       "       [-0.81046856, -0.08633995, -1.08177708, -1.02498075, -1.0979159 ,\n",
       "         0.00933135,  1.38691175, -1.07581603],\n",
       "       [ 0.23454767, -0.47177731, -0.95055191, -1.0997286 , -1.0598232 ,\n",
       "         0.08101764,  1.38691175, -1.07581603],\n",
       "       [ 0.30919169, -0.15214633, -1.03803535, -1.02498075, -1.0598232 ,\n",
       "         0.00933135,  1.38691175, -1.07581603],\n",
       "       [-0.43724847, -1.24891931, -1.02709992, -0.95023289, -1.06934637,\n",
       "         0.11686078,  1.38691175, -1.07581603],\n",
       "       [ 0.35895436, -0.02053357, -0.95680072, -1.01003118, -1.0598232 ,\n",
       "         0.15270393,  1.38691175, -1.07581603],\n",
       "       [-0.65051709,  0.28029559, -0.91774561, -0.95023289, -1.02649208,\n",
       "         0.03621371,  1.38691175, -0.97222433],\n",
       "       [ 0.19307877,  0.19004684, -1.3004857 , -1.32397217, -1.0979159 ,\n",
       "        -0.06235495,  1.3217247 , -1.02977527],\n",
       "       [ 0.8316998 ,  0.96656211,  1.02329338,  1.10533313,  0.50197755,\n",
       "         1.08462573, -0.3731387 ,  0.85789557],\n",
       "       [ 0.85658114,  0.83494935,  0.95950337,  1.04660267,  0.54007025,\n",
       "         1.08462573, -0.3731387 ,  0.76581406],\n",
       "       [-0.49696369,  1.12011033,  0.8866005 ,  1.03058528,  0.42579215,\n",
       "         1.08462573, -0.3731387 ,  0.81185482],\n",
       "       [ 0.75705578,  0.9571612 ,  0.8866005 ,  1.05300963,  0.46388485,\n",
       "         1.08462573, -0.3731387 ,  0.78883444],\n",
       "       [ 1.05563185,  0.79839026,  0.92305193,  1.36695063,  0.50197755,\n",
       "         1.08462573, -0.17757754,  0.85789557],\n",
       "       [ 0.816771  ,  0.9571612 ,  1.25111486,  0.91846349,  0.64482518,\n",
       "         1.08462573,  0.21354478,  0.84063029],\n",
       "       [ 0.88501695,  1.03236849,  1.10530911,  0.99321135,  0.42579215,\n",
       "         1.08462573, -0.3731387 ,  0.90393632],\n",
       "       [ 0.90634382,  1.09086305,  1.10530911,  0.91846349,  0.46388485,\n",
       "         1.15631203, -0.3731387 ,  0.85789557],\n",
       "       [ 0.95610649,  1.03236849,  0.8866005 ,  1.10533313,  0.47340802,\n",
       "         1.08462573, -0.3731387 ,  0.94422198],\n",
       "       [ 1.05563185,  0.96656211,  0.93034222,  1.63604291,  0.50197755,\n",
       "         1.22799832, -0.3731387 ,  0.81185482],\n",
       "       [ 1.05563185,  0.97387393,  1.15998627,  1.36695063,  0.57816295,\n",
       "         1.15631203, -0.17757754,  0.85789557],\n",
       "       [ 1.05563185,  1.03236849,  1.18732485,  1.08664617,  0.57816295,\n",
       "         1.08462573, -0.3731387 ,  0.90393632],\n",
       "       [ 0.9703244 ,  1.03236849,  1.61562923,  1.04660267,  0.61625565,\n",
       "         1.08462573, -0.07979696,  0.90393632],\n",
       "       [ 0.85658114,  1.03236849,  1.23653429,  1.14270706,  0.54007025,\n",
       "         1.08462573, -0.3731387 ,  0.85789557],\n",
       "       [ 0.90634382,  1.03236849,  0.8866005 ,  1.0679592 ,  0.46388485,\n",
       "         1.22799832, -0.3731387 ,  0.73703859],\n",
       "       [ 0.75705578,  0.96656211,  1.36775946,  1.21745492,  0.54007025,\n",
       "         1.22799832, -0.07979696,  0.71977331],\n",
       "       [ 0.75705578,  0.96656211,  1.48023818,  0.91846349,  0.53462843,\n",
       "         1.24591989, -0.3731387 ,  0.81185482],\n",
       "       [ 0.62909461,  0.96656211,  1.32401773,  0.8543939 ,  0.54007025,\n",
       "         1.22799832, -0.07979696,  0.81185482],\n",
       "       [ 0.8316998 ,  1.03236849,  1.10530911,  1.19876795,  0.51626231,\n",
       "         1.29968461, -0.3731387 ,  0.71977331],\n",
       "       [ 0.85658114,  0.88195391,  0.91393907,  1.18008099,  0.61625565,\n",
       "         1.22799832, -0.07979696,  0.81185482],\n",
       "       [ 0.85658114,  0.76914298,  0.9959548 ,  1.29220277,  0.46388485,\n",
       "         1.22799832, -0.3731387 ,  0.90393632],\n",
       "       [ 0.93620142,  1.09817487,  1.10530911,  1.14270706,  0.50197755,\n",
       "         1.4430572 , -0.3731387 ,  0.85789557],\n",
       "       [ 0.20255738,  1.09817487,  1.43337204,  0.91846349,  0.50197755,\n",
       "         1.4430572 , -0.3731387 ,  0.76581406],\n",
       "       [-1.13392596,  1.10757578,  1.17821199,  1.09785835,  0.50197755,\n",
       "         1.65811607, -0.3731387 ,  1.08809933],\n",
       "       [ 1.25468256,  1.03236849,  0.55853757,  0.87361478,  0.57816295,\n",
       "         1.65811607, -0.3731387 ,  1.27226234],\n",
       "       [ 1.05563185,  1.55881952,  0.9959548 ,  0.99321135,  0.57816295,\n",
       "         1.80148866, -0.07979696,  1.22622159],\n",
       "       [ 0.37317227,  1.48361223,  0.9959548 ,  1.14270706,  0.57816295,\n",
       "         1.72980237, -0.3731387 ,  1.27226234],\n",
       "       [ 1.05563185,  1.33319765,  0.92305193,  1.44169848,  0.57816295,\n",
       "         1.72980237, -0.3731387 ,  1.18018083],\n",
       "       [ 1.17506227,  1.33319765,  1.06156739,  0.91846349,  0.57816295,\n",
       "         1.80148866, -0.3731387 ,  1.13414008],\n",
       "       [ 1.05563185,  1.49301314,  1.02329338,  1.08664617,  0.61625565,\n",
       "         1.72980237, -0.07979696,  1.18018083],\n",
       "       [ 0.93620142,  1.10757578,  0.97408394,  0.80634171,  0.54007025,\n",
       "         1.65811607, -0.3731387 ,  0.71977331],\n",
       "       [-0.25810284,  1.42720676,  1.54272635,  1.14270706,  0.42579215,\n",
       "         1.65811607, -0.3731387 ,  0.62769181],\n",
       "       [-1.50359156,  1.55881952,  1.1365532 ,  1.19876795,  0.47340802,\n",
       "         1.4430572 , -0.255802  ,  0.62769181],\n",
       "       [-1.53202738, -0.09574086,  0.594989  ,  0.59455612,  0.04486513,\n",
       "         0.00933135, -1.09019629,  0.5224558 ],\n",
       "       [-1.7595139 ,  0.06720827,  0.52208613,  0.44506041,  1.24478522,\n",
       "        -0.13404124, -1.67687978,  1.05521308],\n",
       "       [ 1.05563185,  1.25799036,  0.54638709,  0.54472422,  1.07336806,\n",
       "        -0.13404124, -1.02500924,  0.10808903],\n",
       "       [ 1.05563185,  0.63753022,  0.52208613,  0.61947207,  1.07336806,\n",
       "        -0.06235495, -1.02500924,  1.20320121],\n",
       "       [ 1.05563185,  1.10757578,  0.54638709,  0.69421993,  1.07336806,\n",
       "        -0.06235495, -1.02500924,  0.65071218],\n",
       "       [-0.88511257,  0.63753022,  0.54638709,  0.69421993,  1.07336806,\n",
       "        -0.20572753, -0.95982219,  1.51397629],\n",
       "       [ 0.20255738,  0.3743047 ,  0.57068805,  0.69421993,  1.3304938 ,\n",
       "        -0.20572753, -1.02500924,  1.56577213],\n",
       "       [-1.73107809,  1.2429489 ,  0.52208613,  0.84371564,  1.41620237,\n",
       "        -0.06235495, -1.15538335,  0.58165105],\n",
       "       [ 1.05563185,  1.03236849,  0.37628038,  0.56964017,  1.24478522,\n",
       "        -0.20572753, -1.03315762,  0.99601782],\n",
       "       [ 0.93620142,  1.20785217,  0.52208613,  0.64438802,  1.41620237,\n",
       "        -0.13404124, -0.95982219,  0.65071218],\n",
       "       [ 1.65278398,  0.76914298,  0.47348421,  0.64438802,  1.41620237,\n",
       "        -0.06235495, -0.95982219,  0.74739776],\n",
       "       [-0.13867241,  1.47107768,  0.57068805,  0.69421993,  1.41620237,\n",
       "        -0.06235495, -0.95982219,  0.83027112],\n",
       "       [ 1.65278398,  1.18278307,  0.57068805,  0.56964017,  1.41620237,\n",
       "         0.00933135, -0.95982219,  0.81843207],\n",
       "       [ 1.05563185,  1.34823911,  0.54638709,  0.69421993,  1.41620237,\n",
       "         0.08101764, -0.95982219,  0.51258993],\n",
       "       [ 0.75705578,  1.20785217,  0.49778517,  0.69421993,  1.18764617,\n",
       "         0.08101764, -0.95982219,  0.16728428],\n",
       "       [ 1.35420791,  0.08475664,  0.54638709,  0.69421993,  1.41620237,\n",
       "        -0.20572753, -0.95982219, -0.14349079],\n",
       "       [ 0.65753043,  0.15495011,  0.35197943,  0.19590089,  0.5591166 ,\n",
       "         0.00933135, -2.13318916,  1.3067929 ],\n",
       "       [ 0.93620142,  0.24269195,  0.49778517,  0.56964017,  1.24478522,\n",
       "         0.15270393, -1.09019629,  1.05521308],\n",
       "       [-1.4524071 , -1.17872584,  0.52208613,  0.42014446,  1.41620237,\n",
       "         0.08101764, -1.15538335,  1.41038459],\n",
       "       [-0.61639411, -0.5469846 ,  0.52208613,  0.39522851,  1.24478522,\n",
       "         0.15270393, -1.10649306,  1.3067929 ],\n",
       "       [-0.61639411, -0.37150092,  0.54638709,  0.49489231,  1.18764617,\n",
       "        -0.04443337, -1.02500924,  1.17360358],\n",
       "       [-0.39459475, -0.94182287,  0.49778517,  0.81879969,  1.18764617,\n",
       "        -0.13404124, -0.95982219,  0.85789557],\n",
       "       [-1.73107809, -2.12633769,  0.594989  ,  0.24573279,  1.24478522,\n",
       "        -0.20572753, -0.95982219, -0.33916399],\n",
       "       [-0.33772312, -0.44169439,  0.57068805,  0.27064875,  1.07336806,\n",
       "        -0.20572753, -1.02500924, -0.01030147],\n",
       "       [-2.97514503, -0.23111398,  0.57068805,  0.04640518,  1.07336806,\n",
       "        -0.20572753, -1.03315762,  0.68524275],\n",
       "       [-1.9301288 , -1.91575728,  0.594989  ,  0.12115304,  1.41620237,\n",
       "        -0.34910012, -1.09019629,  0.94422198],\n",
       "       [-2.10074369, -0.41537184,  0.52208613,  0.64438802,  1.41620237,\n",
       "         0.08101764, -1.09019629,  0.66452441],\n",
       "       [-1.33297667, -2.02104748,  0.18187272,  0.32048065,  0.73053375,\n",
       "        -0.06235495, -1.80725389,  0.83027112],\n",
       "       [-2.67656896, -0.92302105,  0.52208613,  0.66930398,  1.07336806,\n",
       "         0.15270393, -1.09019629,  0.4435288 ],\n",
       "       [-1.33297667, -1.00762925,  0.47348421,  0.84371564,  1.07336806,\n",
       "         0.00933135, -1.15538335,  0.42626352],\n",
       "       [-1.43250202, -1.07343563,  0.49778517,  0.56964017,  1.07336806,\n",
       "         0.00933135, -1.28575746,  0.4987777 ]])"
      ]
     },
     "metadata": {},
     "output_type": "display_data"
    },
    {
     "name": "stdout",
     "output_type": "stream",
     "text": [
      "(114,)\n"
     ]
    },
    {
     "data": {
      "text/plain": [
       "array([0., 0., 0., 0., 0., 0., 0., 0., 0., 0., 0., 0., 0., 0., 0., 0., 0.,\n",
       "       0., 0., 0., 0., 0., 0., 0., 0., 0., 0., 0., 0., 0., 0., 0., 0., 0.,\n",
       "       0., 0., 0., 0., 0., 0., 0., 0., 0., 0., 0., 0., 0., 0., 0., 0., 1.,\n",
       "       1., 1., 1., 1., 1., 1., 1., 1., 1., 1., 1., 1., 1., 1., 1., 1., 1.,\n",
       "       1., 1., 1., 1., 1., 1., 1., 1., 1., 1., 1., 1., 1., 1., 1., 2., 2.,\n",
       "       2., 2., 2., 2., 2., 2., 2., 2., 2., 2., 2., 2., 2., 2., 2., 2., 2.,\n",
       "       2., 2., 2., 2., 2., 2., 2., 2., 2., 2., 2., 2.])"
      ]
     },
     "metadata": {},
     "output_type": "display_data"
    }
   ],
   "source": [
    "from sympy import *\n",
    "init_printing(use_latex=True)\n",
    "\n",
    "import matplotlib.pyplot as plt\n",
    "%matplotlib inline\n",
    "\n",
    "X = data[:,0:8]\n",
    "X = preprocessing.scale(X)\n",
    "print(X.shape)\n",
    "display(X)\n",
    "\n",
    "labels = data[:,8]\n",
    "print(labels.shape)\n",
    "display(labels)\n",
    "\n",
    "Y = keras.utils.to_categorical(labels, len(np.unique(labels)))"
   ]
  },
  {
   "cell_type": "code",
   "execution_count": 33,
   "metadata": {},
   "outputs": [
    {
     "data": {
      "image/png": "[encoded data removed]",
      "text/latex": [
       "$$8$$"
      ],
      "text/plain": [
       "8"
      ]
     },
     "metadata": {},
     "output_type": "display_data"
    }
   ],
   "source": [
    "input_size = X.shape[1]\n",
    "output_size = Y.shape[1]\n",
    "display(X.shape[1])"
   ]
  },
  {
   "cell_type": "code",
   "execution_count": 34,
   "metadata": {},
   "outputs": [
    {
     "name": "stdout",
     "output_type": "stream",
     "text": [
      "_________________________________________________________________\n",
      "Layer (type)                 Output Shape              Param #   \n",
      "=================================================================\n",
      "dense_27 (Dense)             (None, 64)                576       \n",
      "_________________________________________________________________\n",
      "dense_28 (Dense)             (None, 64)                4160      \n",
      "_________________________________________________________________\n",
      "dense_29 (Dense)             (None, 3)                 195       \n",
      "=================================================================\n",
      "Total params: 4,931\n",
      "Trainable params: 4,931\n",
      "Non-trainable params: 0\n",
      "_________________________________________________________________\n",
      "None\n"
     ]
    }
   ],
   "source": [
    "model = keras.models.Sequential()\n",
    "\n",
    "model.add(keras.layers.Dense(64,input_dim=8,activation='relu', bias_initializer=keras.initializers.Constant(value=0.01)))\n",
    "model.add(keras.layers.Dense(64,input_dim=8,activation='sigmoid', bias_initializer=keras.initializers.Constant(value=0.01)))\n",
    "\n",
    "model.add(keras.layers.Dense(3,activation='softmax'))\n",
    "#categorical_crossentropy\n",
    "model.compile(loss='categorical_crossentropy',optimizer='adam',metrics=['accuracy'])\n",
    "\n",
    "print(model.summary())"
   ]
  },
  {
   "cell_type": "code",
   "execution_count": 35,
   "metadata": {},
   "outputs": [
    {
     "data": {
      "application/vnd.jupyter.widget-view+json": {
       "model_id": "179dfa4ce374413894d20676ff5934ae",
       "version_major": 2,
       "version_minor": 0
      },
      "text/plain": [
       "HBox(children=(IntProgress(value=0, description='Training', style=ProgressStyle(description_width='initial')),…"
      ]
     },
     "metadata": {},
     "output_type": "display_data"
    },
    {
     "data": {
      "application/vnd.jupyter.widget-view+json": {
       "model_id": "",
       "version_major": 2,
       "version_minor": 0
      },
      "text/plain": [
       "HBox(children=(IntProgress(value=0, description='Epoch 0', max=91, style=ProgressStyle(description_width='init…"
      ]
     },
     "metadata": {},
     "output_type": "display_data"
    },
    {
     "name": "stdout",
     "output_type": "stream",
     "text": [
      "\n"
     ]
    }
   ],
   "source": [
    "history = model.fit(X, Y,\n",
    "    batch_size=56, \n",
    "    epochs=100, \n",
    "    verbose=0,\n",
    "    callbacks=[TQDMNotebookCallback()],\n",
    "    validation_split = 0.2)\n"
   ]
  },
  {
   "cell_type": "code",
   "execution_count": 36,
   "metadata": {},
   "outputs": [
    {
     "data": {
      "image/png": "[encoded data removed]",
      "text/plain": [
       "<Figure size 432x288 with 2 Axes>"
      ]
     },
     "metadata": {
      "needs_background": "light"
     },
     "output_type": "display_data"
    },
    {
     "name": "stdout",
     "output_type": "stream",
     "text": [
      "114/114 [==============================] - 0s 102us/step\n",
      "Test loss: 0.05925530744226355\n",
      "Test accuracy: 1.0\n"
     ]
    }
   ],
   "source": [
    "plt.figure(1)\n",
    "\n",
    "plt.subplot(211)\n",
    "plt.plot(history.history['acc'])\n",
    "plt.plot(history.history['val_acc'])\n",
    "plt.title('model accuracy')\n",
    "plt.ylabel('accuracy')\n",
    "plt.xlabel('epoch')\n",
    "plt.legend(['train', 'test'], loc='upper left')\n",
    "\n",
    "plt.subplot(212)\n",
    "plt.plot(history.history['loss'])\n",
    "plt.plot(history.history['val_loss'])\n",
    "plt.title('model loss')\n",
    "plt.ylabel('loss')\n",
    "plt.xlabel('epoch')\n",
    "plt.legend(['train', 'test'], loc='upper left')\n",
    "plt.tight_layout()\n",
    "plt.show()\n",
    "\n",
    "score = model.evaluate(X, Y, verbose=1)\n",
    "print('Test loss:', score[0])\n",
    "print('Test accuracy:', score[1])"
   ]
  },
  {
   "cell_type": "code",
   "execution_count": 38,
   "metadata": {},
   "outputs": [],
   "source": [
    "model.save_weights('MLN.weights')\n",
    "model.save('MLN.model')"
   ]
  },
  {
   "cell_type": "code",
   "execution_count": null,
   "metadata": {},
   "outputs": [],
   "source": []
  }
 ],
 "metadata": {
  "kernelspec": {
   "display_name": "Python 3",
   "language": "python",
   "name": "python3"
  },
  "language_info": {
   "codemirror_mode": {
    "name": "ipython",
    "version": 3
   },
   "file_extension": ".py",
   "mimetype": "text/x-python",
   "name": "python",
   "nbconvert_exporter": "python",
   "pygments_lexer": "ipython3",
   "version": "3.6.7"
  }
 },
 "nbformat": 4,
 "nbformat_minor": 2
}
