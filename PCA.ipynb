{
 "cells": [
  {
   "cell_type": "markdown",
   "metadata": {},
   "source": [
    "# PCA\n"
   ]
  },
  {
   "cell_type": "code",
   "execution_count": 43,
   "metadata": {},
   "outputs": [],
   "source": [
    "# For reading data sets from the web.\n",
    "import pandas\n",
    "# For lots of great things.\n",
    "import numpy as np\n",
    "# To make our plots.\n",
    "import matplotlib.pyplot as plt\n",
    "%matplotlib inline\n",
    "# Because sympy and LaTeX make\n",
    "# everything look wonderful!\n",
    "from sympy import *\n",
    "init_printing(use_latex=True)\n",
    "from IPython.display import display\n",
    "# We will use this to check our implementation...\n",
    "from sklearn.decomposition import PCA\n",
    "# We will grab another data set using Keras\n",
    "# after we finish up with Iris...\n",
    "import keras\n",
    "from sklearn import preprocessing"
   ]
  },
  {
   "cell_type": "code",
   "execution_count": 44,
   "metadata": {},
   "outputs": [
    {
     "name": "stdout",
     "output_type": "stream",
     "text": [
      "[[-46.28571429 -45.125      -47.14285714 -49.28571429 -55.5\n",
      "  -54.85714286 -57.75       -59.125        0.        ]\n",
      " [-46.         -45.88888889 -46.55555556 -51.         -56.375\n",
      "  -55.44444444 -58.11111111 -57.88888889   0.        ]\n",
      " [-45.88888889 -46.375      -49.55555556 -49.625      -56.22222222\n",
      "  -54.88888889 -55.77777778 -58.77777778   0.        ]\n",
      " [-45.2        -49.2        -55.66666667 -55.33333333 -54.\n",
      "  -55.         -51.66666667 -62.22222222   0.        ]\n",
      " [-46.         -49.         -57.         -55.33333333 -53.25\n",
      "  -54.11111111 -52.11111111 -62.22222222   0.        ]\n",
      " [-46.33333333 -49.5        -56.75       -56.75       -53.5\n",
      "  -55.44444444 -51.44444444 -61.44444444   0.        ]\n",
      " [-46.55555556 -49.         -55.42857143 -55.2        -53.66666667\n",
      "  -54.66666667 -52.55555556 -61.88888889   0.        ]\n",
      " [-45.55555556 -48.         -56.66666667 -56.5        -53.88888889\n",
      "  -55.66666667 -53.11111111 -62.33333333   0.        ]]\n"
     ]
    },
    {
     "data": {
      "image/png": "[encoded data removed]",
      "text/latex": [
       "$$\\left ( 114, \\quad 9\\right )$$"
      ],
      "text/plain": [
       "(114, 9)"
      ]
     },
     "execution_count": 44,
     "metadata": {},
     "output_type": "execute_result"
    }
   ],
   "source": [
    "## load in data and split into x train and y train\n",
    "data = np.array(pandas.read_csv(\"new_trainingdata.csv\", header=0))\n",
    "## Have to drop all teh rows that have nan values because they will not help with net\n",
    "## clean out rows with nan values\n",
    "data = data[~np.isnan(data).any(axis=1)]\n",
    "print(data[:8])\n",
    "data.shape"
   ]
  },
  {
   "cell_type": "code",
   "execution_count": 45,
   "metadata": {},
   "outputs": [
    {
     "data": {
      "image/png": "[encoded data removed]",
      "text/latex": [
       "$$\\left ( 114, \\quad 8\\right )$$"
      ],
      "text/plain": [
       "(114, 8)"
      ]
     },
     "metadata": {},
     "output_type": "display_data"
    },
    {
     "data": {
      "image/png": "[encoded data removed]",
      "text/latex": [
       "$$\\left ( 114\\right )$$"
      ],
      "text/plain": [
       "(114,)"
      ]
     },
     "metadata": {},
     "output_type": "display_data"
    },
    {
     "data": {
      "text/latex": [
       "$$\\left[\\begin{matrix}0.0 & 1.0 & 2.0\\end{matrix}\\right]$$"
      ],
      "text/plain": [
       "[0.0  1.0  2.0]"
      ]
     },
     "metadata": {},
     "output_type": "display_data"
    },
    {
     "data": {
      "text/plain": [
       "array([[-0.3092873 ,  0.44011108,  0.63664779,  0.1816632 , -1.49788926,\n",
       "        -0.75873607, -1.98651828,  0.11548844],\n",
       "       [-0.13867241,  0.03796099,  0.76509571, -0.20275434, -1.79786928,\n",
       "        -1.13764933, -2.19837621,  0.62769181],\n",
       "       [-0.07232217, -0.21795271,  0.10896985,  0.10558057, -1.74549182,\n",
       "        -0.77921787, -0.82944808,  0.25936579],\n",
       "       [ 0.33904929, -1.70517687, -1.22758282, -1.17447646, -0.98363779,\n",
       "        -0.85090416,  1.58247291, -1.16789753],\n",
       "       [-0.13867241, -1.59988666, -1.51919432, -1.17447646, -0.72651206,\n",
       "        -0.27741382,  1.3217247 , -1.16789753],\n",
       "       [-0.33772312, -1.86311217, -1.46451716, -1.49215485, -0.81222064,\n",
       "        -1.13764933,  1.71284702, -0.84561226],\n",
       "       [-0.47042359, -1.59988666, -1.17550934, -1.14457732, -0.86935969,\n",
       "        -0.63584529,  1.06097648, -1.02977527],\n",
       "       [ 0.12672854, -1.07343563, -1.44629144, -1.43609395, -0.94554509,\n",
       "        -1.28102192,  0.73504121, -1.21393828]])"
      ]
     },
     "metadata": {},
     "output_type": "display_data"
    }
   ],
   "source": [
    "# vectors AND class labels...\n",
    "X = data[:,0:8] # 0 thru 30\n",
    "Y = data[:,8] # 30\n",
    "\n",
    "# standardize X .. will mean center data\n",
    "X = preprocessing.scale(X)\n",
    "\n",
    "# Pretty-print with display()!\n",
    "display(X.shape)\n",
    "display(Y.shape)\n",
    "display(Matrix(np.unique(Y)).T)\n",
    "display(X[0:8])"
   ]
  },
  {
   "cell_type": "code",
   "execution_count": 46,
   "metadata": {},
   "outputs": [
    {
     "data": {
      "image/png": "[encoded data removed]",
      "text/plain": [
       "<Figure size 432x288 with 1 Axes>"
      ]
     },
     "metadata": {
      "needs_background": "light"
     },
     "output_type": "display_data"
    }
   ],
   "source": [
    "U,S,V = np.linalg.svd(X,full_matrices=True)\n",
    "\n",
    "# Percent variance accounted for\n",
    "plt.plot(100.0*S/np.sum(S))\n",
    "plt.ylabel('% Var')\n",
    "plt.xlabel('Singular Value')\n",
    "plt.show()"
   ]
  },
  {
   "cell_type": "code",
   "execution_count": 47,
   "metadata": {},
   "outputs": [
    {
     "data": {
      "image/png": "[encoded data removed]",
      "text/latex": [
       "$$59.08992310448531$$"
      ],
      "text/plain": [
       "59.08992310448531"
      ]
     },
     "execution_count": 47,
     "metadata": {},
     "output_type": "execute_result"
    }
   ],
   "source": [
    "# Variance accounted for in the first two principal components\n",
    "100.0*(S[0]+S[1])/np.sum(S)"
   ]
  },
  {
   "cell_type": "code",
   "execution_count": 48,
   "metadata": {},
   "outputs": [
    {
     "data": {
      "image/png": "[encoded data removed]",
      "text/latex": [
       "$$\\left ( 114, \\quad 2\\right )$$"
      ],
      "text/plain": [
       "(114, 2)"
      ]
     },
     "execution_count": 48,
     "metadata": {},
     "output_type": "execute_result"
    }
   ],
   "source": [
    "# Scale the singular vectors, resulting in a rotated form of our mean-centered data\n",
    "D = np.zeros([X.shape[0],X.shape[1]])\n",
    "np.fill_diagonal(D,S)\n",
    "Xrotated = np.dot(U,D)\n",
    "# Extract just the first two principal components!\n",
    "PCs = Xrotated[:,0:2]\n",
    "PCs.shape"
   ]
  },
  {
   "cell_type": "code",
   "execution_count": 49,
   "metadata": {},
   "outputs": [
    {
     "data": {
      "image/png": "[encoded data removed]",
      "text/plain": [
       "<Figure size 432x288 with 1 Axes>"
      ]
     },
     "metadata": {
      "needs_background": "light"
     },
     "output_type": "display_data"
    }
   ],
   "source": [
    "# The x and y values come from the two\n",
    "# Principal Components and the colors for\n",
    "# each point are selected based on the\n",
    "# corresponding class for each point...\n",
    "plt.scatter(PCs[:,0],PCs[:,1],\n",
    "color=[['red','green','blue'][i] for i in Y.astype(int)])\n",
    "plt.xlabel(\"PC1\")\n",
    "plt.ylabel(\"PC2\")\n",
    "plt.show()"
   ]
  },
  {
   "cell_type": "markdown",
   "metadata": {},
   "source": [
    "The data suggest that we have fairly clearly descision boundries.  A simple MLP with linear activation functions should have no trouble classifying our locations but if it does we will likely use a RELU or sigmoid instead.  It remains to be seen how well the network will be able to generalize."
   ]
  },
  {
   "cell_type": "code",
   "execution_count": null,
   "metadata": {},
   "outputs": [],
   "source": []
  }
 ],
 "metadata": {
  "kernelspec": {
   "display_name": "Python 3",
   "language": "python",
   "name": "python3"
  },
  "language_info": {
   "codemirror_mode": {
    "name": "ipython",
    "version": 3
   },
   "file_extension": ".py",
   "mimetype": "text/x-python",
   "name": "python",
   "nbconvert_exporter": "python",
   "pygments_lexer": "ipython3",
   "version": "3.6.7"
  }
 },
 "nbformat": 4,
 "nbformat_minor": 2
}
