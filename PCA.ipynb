{
 "cells": [
  {
   "cell_type": "markdown",
   "metadata": {},
   "source": [
    "# PCA\n"
   ]
  },
  {
   "cell_type": "code",
   "execution_count": 1,
   "metadata": {},
   "outputs": [
    {
     "name": "stderr",
     "output_type": "stream",
     "text": [
      "Using TensorFlow backend.\n"
     ]
    }
   ],
   "source": [
    "# For reading data sets from the web.\n",
    "import pandas\n",
    "# For lots of great things.\n",
    "import numpy as np\n",
    "# To make our plots.\n",
    "import matplotlib.pyplot as plt\n",
    "%matplotlib inline\n",
    "# Because sympy and LaTeX make\n",
    "# everything look wonderful!\n",
    "from sympy import *\n",
    "init_printing(use_latex=True)\n",
    "from IPython.display import display\n",
    "# We will use this to check our implementation...\n",
    "from sklearn.decomposition import PCA\n",
    "# We will grab another data set using Keras\n",
    "# after we finish up with Iris...\n",
    "import keras\n",
    "from sklearn import preprocessing"
   ]
  },
  {
   "cell_type": "code",
   "execution_count": 2,
   "metadata": {},
   "outputs": [
    {
     "name": "stdout",
     "output_type": "stream",
     "text": [
      "[[-46.28571429 -45.125      -47.14285714 -49.28571429 -55.5\n",
      "  -54.85714286 -57.75       -59.125        0.        ]\n",
      " [-46.         -45.88888889 -46.55555556 -51.         -56.375\n",
      "  -55.44444444 -58.11111111 -57.88888889   0.        ]\n",
      " [-45.88888889 -46.375      -49.55555556 -49.625      -56.22222222\n",
      "  -54.88888889 -55.77777778 -58.77777778   0.        ]\n",
      " [-45.2        -49.2        -55.66666667 -55.33333333 -54.\n",
      "  -55.         -51.66666667 -62.22222222   0.        ]\n",
      " [-46.         -49.         -57.         -55.33333333 -53.25\n",
      "  -54.11111111 -52.11111111 -62.22222222   0.        ]\n",
      " [-46.33333333 -49.5        -56.75       -56.75       -53.5\n",
      "  -55.44444444 -51.44444444 -61.44444444   0.        ]\n",
      " [-46.55555556 -49.         -55.42857143 -55.2        -53.66666667\n",
      "  -54.66666667 -52.55555556 -61.88888889   0.        ]\n",
      " [-45.55555556 -48.         -56.66666667 -56.5        -53.88888889\n",
      "  -55.66666667 -53.11111111 -62.33333333   0.        ]]\n"
     ]
    },
    {
     "data": {
      "image/png": "[encoded data removed]",
      "text/latex": [
       "$$\\left ( 255, \\quad 9\\right )$$"
      ],
      "text/plain": [
       "(255, 9)"
      ]
     },
     "execution_count": 2,
     "metadata": {},
     "output_type": "execute_result"
    }
   ],
   "source": [
    "## load in data and split into x train and y train\n",
    "data = np.array(pandas.read_csv(\"./comp_new_trainingdata.csv\", header=0))\n",
    "## Have to drop all teh rows that have nan values because they will not help with net\n",
    "## clean out rows with nan values\n",
    "data = data[~np.isnan(data).any(axis=1)]\n",
    "print(data[:8])\n",
    "data.shape"
   ]
  },
  {
   "cell_type": "code",
   "execution_count": 3,
   "metadata": {},
   "outputs": [
    {
     "data": {
      "image/png": "[encoded data removed]",
      "text/latex": [
       "$$\\left ( 255, \\quad 8\\right )$$"
      ],
      "text/plain": [
       "(255, 8)"
      ]
     },
     "metadata": {},
     "output_type": "display_data"
    },
    {
     "data": {
      "image/png": "[encoded data removed]",
      "text/latex": [
       "$$\\left ( 255\\right )$$"
      ],
      "text/plain": [
       "(255,)"
      ]
     },
     "metadata": {},
     "output_type": "display_data"
    },
    {
     "data": {
      "text/latex": [
       "$$\\left[\\begin{matrix}0.0 & 1.0 & 2.0\\end{matrix}\\right]$$"
      ],
      "text/plain": [
       "[0.0  1.0  2.0]"
      ]
     },
     "metadata": {},
     "output_type": "display_data"
    },
    {
     "data": {
      "text/plain": [
       "array([[ 0.32964401,  0.67826807,  0.71532958,  0.57208406, -0.56197763,\n",
       "         0.67553977, -0.26566949, -0.94444161],\n",
       "       [ 0.42390209,  0.45470923,  0.8442069 ,  0.1083393 , -0.75681625,\n",
       "         0.5522463 , -0.35292137, -0.73835761],\n",
       "       [ 0.46055801,  0.31244452,  0.18588761,  0.48030124, -0.72279681,\n",
       "         0.66887526,  0.21086004, -0.88655285],\n",
       "       [ 0.6878247 , -0.51431673, -1.15513317, -1.06390441, -0.22796856,\n",
       "         0.64554947,  1.20418918, -1.46080939],\n",
       "       [ 0.42390209, -0.45578496, -1.44771953, -1.06390441, -0.06096402,\n",
       "         0.83215581,  1.09680225, -1.46080939],\n",
       "       [ 0.31393433, -0.60211438, -1.39285959, -1.44713792, -0.1166322 ,\n",
       "         0.5522463 ,  1.25788265, -1.33113856],\n",
       "       [ 0.24062249, -0.45578496, -1.10288561, -1.02783537, -0.15374432,\n",
       "         0.71552685,  0.98941531, -1.40523618],\n",
       "       [ 0.57052576, -0.16312611, -1.37457294, -1.37950848, -0.20322714,\n",
       "         0.50559472,  0.85518164, -1.4793338 ]])"
      ]
     },
     "metadata": {},
     "output_type": "display_data"
    }
   ],
   "source": [
    "# vectors AND class labels...\n",
    "X = data[:,0:8] # 0 thru 30\n",
    "Y = data[:,8] # 30\n",
    "\n",
    "# standardize X .. will mean center data\n",
    "X = preprocessing.scale(X)\n",
    "\n",
    "# Pretty-print with display()!\n",
    "display(X.shape)\n",
    "display(Y.shape)\n",
    "display(Matrix(np.unique(Y)).T)\n",
    "display(X[0:8])"
   ]
  },
  {
   "cell_type": "code",
   "execution_count": 4,
   "metadata": {},
   "outputs": [
    {
     "data": {
      "image/png": "[encoded data removed]",
      "text/plain": [
       "<Figure size 432x288 with 1 Axes>"
      ]
     },
     "metadata": {
      "needs_background": "light"
     },
     "output_type": "display_data"
    }
   ],
   "source": [
    "U,S,V = np.linalg.svd(X,full_matrices=True)\n",
    "\n",
    "# Percent variance accounted for\n",
    "plt.plot(100.0*S/np.sum(S))\n",
    "plt.ylabel('% Var')\n",
    "plt.xlabel('Singular Value')\n",
    "plt.show()"
   ]
  },
  {
   "cell_type": "code",
   "execution_count": 5,
   "metadata": {},
   "outputs": [
    {
     "data": {
      "image/png": "[encoded data removed]",
      "text/latex": [
       "$$58.18743603006421$$"
      ],
      "text/plain": [
       "58.18743603006421"
      ]
     },
     "execution_count": 5,
     "metadata": {},
     "output_type": "execute_result"
    }
   ],
   "source": [
    "# Variance accounted for in the first two principal components\n",
    "100.0*(S[0]+S[1])/np.sum(S)"
   ]
  },
  {
   "cell_type": "code",
   "execution_count": 6,
   "metadata": {},
   "outputs": [
    {
     "data": {
      "image/png": "[encoded data removed]",
      "text/latex": [
       "$$\\left ( 255, \\quad 2\\right )$$"
      ],
      "text/plain": [
       "(255, 2)"
      ]
     },
     "execution_count": 6,
     "metadata": {},
     "output_type": "execute_result"
    }
   ],
   "source": [
    "# Scale the singular vectors, resulting in a rotated form of our mean-centered data\n",
    "D = np.zeros([X.shape[0],X.shape[1]])\n",
    "np.fill_diagonal(D,S)\n",
    "Xrotated = np.dot(U,D)\n",
    "# Extract just the first two principal components!\n",
    "PCs = Xrotated[:,0:2]\n",
    "PCs.shape"
   ]
  },
  {
   "cell_type": "code",
   "execution_count": 7,
   "metadata": {},
   "outputs": [
    {
     "data": {
      "image/png": "[encoded data removed]",
      "text/plain": [
       "<Figure size 432x288 with 1 Axes>"
      ]
     },
     "metadata": {
      "needs_background": "light"
     },
     "output_type": "display_data"
    }
   ],
   "source": [
    "# The x and y values come from the two\n",
    "# Principal Components and the colors for\n",
    "# each point are selected based on the\n",
    "# corresponding class for each point...\n",
    "plt.scatter(PCs[:,0],PCs[:,1],\n",
    "color=[['red','green','blue'][i] for i in Y.astype(int)])\n",
    "plt.xlabel(\"PC1\")\n",
    "plt.ylabel(\"PC2\")\n",
    "plt.show()"
   ]
  },
  {
   "cell_type": "markdown",
   "metadata": {},
   "source": [
    "The data suggest that we have fairly clearly descision boundries.  A simple MLP with linear activation functions should have no trouble classifying our locations but if it does we will likely use a RELU or sigmoid instead.  It remains to be seen how well the network will be able to generalize."
   ]
  },
  {
   "cell_type": "code",
   "execution_count": null,
   "metadata": {},
   "outputs": [],
   "source": []
  }
 ],
 "metadata": {
  "kernelspec": {
   "display_name": "Python 3",
   "language": "python",
   "name": "python3"
  },
  "language_info": {
   "codemirror_mode": {
    "name": "ipython",
    "version": 3
   },
   "file_extension": ".py",
   "mimetype": "text/x-python",
   "name": "python",
   "nbconvert_exporter": "python",
   "pygments_lexer": "ipython3",
   "version": "3.6.7"
  }
 },
 "nbformat": 4,
 "nbformat_minor": 2
}
