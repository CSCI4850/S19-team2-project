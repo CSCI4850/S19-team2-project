{
 "cells": [
  {
   "cell_type": "markdown",
   "metadata": {},
   "source": [
    "# PCA\n"
   ]
  },
  {
   "cell_type": "code",
   "execution_count": 2,
   "metadata": {},
   "outputs": [
    {
     "name": "stderr",
     "output_type": "stream",
     "text": [
      "Using TensorFlow backend.\n"
     ]
    }
   ],
   "source": [
    "# For reading data sets from the web.\n",
    "import pandas\n",
    "# For lots of great things.\n",
    "import numpy as np\n",
    "# To make our plots.\n",
    "import matplotlib.pyplot as plt\n",
    "%matplotlib inline\n",
    "# Because sympy and LaTeX make\n",
    "# everything look wonderful!\n",
    "from sympy import *\n",
    "init_printing(use_latex=True)\n",
    "from IPython.display import display\n",
    "# We will use this to check our implementation...\n",
    "from sklearn.decomposition import PCA\n",
    "# We will grab another data set using Keras\n",
    "# after we finish up with Iris...\n",
    "import keras\n",
    "from sklearn import preprocessing"
   ]
  },
  {
   "cell_type": "code",
   "execution_count": 3,
   "metadata": {},
   "outputs": [
    {
     "name": "stdout",
     "output_type": "stream",
     "text": [
      "[[-43.66666667 -47.4        -50.         -53.33333333 -55.2\n",
      "  -57.           0.        ]\n",
      " [-43.5        -46.25       -49.6        -54.         -54.8\n",
      "  -56.6          0.        ]\n",
      " [-43.66666667 -45.25       -50.2        -54.5        -55.\n",
      "  -55.8          0.        ]\n",
      " [-43.5        -47.         -52.6        -53.75       -54.8\n",
      "  -57.           0.        ]\n",
      " [-44.2        -46.25       -50.         -53.2        -54.4\n",
      "  -55.6          0.        ]]\n"
     ]
    },
    {
     "data": {
      "image/png": "[encoded data removed]",
      "text/latex": [
       "$$\\left ( 72, \\quad 7\\right )$$"
      ],
      "text/plain": [
       "(72, 7)"
      ]
     },
     "execution_count": 3,
     "metadata": {},
     "output_type": "execute_result"
    }
   ],
   "source": [
    "## load in data and split into x train and y train\n",
    "data = np.array(pandas.read_csv(\"trainingdata.csv\", header=0))\n",
    "print(data[:5])\n",
    "data.shape"
   ]
  },
  {
   "cell_type": "code",
   "execution_count": 10,
   "metadata": {},
   "outputs": [
    {
     "data": {
      "image/png": "[encoded data removed]",
      "text/latex": [
       "$$\\left ( 72, \\quad 6\\right )$$"
      ],
      "text/plain": [
       "(72, 6)"
      ]
     },
     "metadata": {},
     "output_type": "display_data"
    },
    {
     "data": {
      "image/png": "[encoded data removed]",
      "text/latex": [
       "$$\\left ( 72\\right )$$"
      ],
      "text/plain": [
       "(72,)"
      ]
     },
     "metadata": {},
     "output_type": "display_data"
    },
    {
     "data": {
      "text/latex": [
       "$$\\left[\\begin{matrix}0.0 & 1.0 & 2.0\\end{matrix}\\right]$$"
      ],
      "text/plain": [
       "[0.0  1.0  2.0]"
      ]
     },
     "metadata": {},
     "output_type": "display_data"
    }
   ],
   "source": [
    "# vectors AND class labels...\n",
    "X = data[:,0:6] # 0 thru 30\n",
    "Y = data[:,6] # 30\n",
    "# standardize X\n",
    "X = preprocessing.scale(X)\n",
    "# Pretty-print with display()!\n",
    "display(X.shape)\n",
    "display(Y.shape)\n",
    "display(Matrix(np.unique(Y)).T)"
   ]
  },
  {
   "cell_type": "code",
   "execution_count": 11,
   "metadata": {},
   "outputs": [],
   "source": [
    "# Mean center the vector - center data around 0\n",
    "def mean_center(x):\n",
    "    return x- np.mean(x)\n",
    "\n",
    "#Call for each col in the data (move along axis 0 or the rows)\n",
    "Xcentered = np.apply_along_axis(mean_center,0,X)"
   ]
  },
  {
   "cell_type": "code",
   "execution_count": 12,
   "metadata": {},
   "outputs": [
    {
     "data": {
      "image/png": "[encoded data removed]",
      "text/plain": [
       "<Figure size 432x288 with 1 Axes>"
      ]
     },
     "metadata": {
      "needs_background": "light"
     },
     "output_type": "display_data"
    }
   ],
   "source": [
    "U,S,V = np.linalg.svd(Xcentered,full_matrices=True)\n",
    "\n",
    "# Percent variance accounted for\n",
    "plt.plot(100.0*S/np.sum(S))\n",
    "plt.ylabel('% Var')\n",
    "plt.xlabel('Singular Value')\n",
    "plt.show()"
   ]
  },
  {
   "cell_type": "code",
   "execution_count": 13,
   "metadata": {},
   "outputs": [
    {
     "data": {
      "image/png": "[encoded data removed]",
      "text/latex": [
       "$$60.523123092297496$$"
      ],
      "text/plain": [
       "60.523123092297496"
      ]
     },
     "execution_count": 13,
     "metadata": {},
     "output_type": "execute_result"
    }
   ],
   "source": [
    "# Variance accounted for in the first two principal components\n",
    "100.0*(S[0]+S[1])/np.sum(S)"
   ]
  },
  {
   "cell_type": "code",
   "execution_count": 14,
   "metadata": {},
   "outputs": [
    {
     "data": {
      "image/png": "[encoded data removed]",
      "text/latex": [
       "$$\\left ( 72, \\quad 2\\right )$$"
      ],
      "text/plain": [
       "(72, 2)"
      ]
     },
     "execution_count": 14,
     "metadata": {},
     "output_type": "execute_result"
    }
   ],
   "source": [
    "# Scale the singular vectors, resulting in a rotated form of our mean-centered data\n",
    "D = np.zeros([X.shape[0],X.shape[1]])\n",
    "np.fill_diagonal(D,S)\n",
    "Xrotated = np.dot(U,D)\n",
    "# Extract just the first two principal components!\n",
    "PCs = Xrotated[:,0:2]\n",
    "PCs.shape"
   ]
  },
  {
   "cell_type": "code",
   "execution_count": 15,
   "metadata": {},
   "outputs": [
    {
     "data": {
      "image/png": "[encoded data removed]",
      "text/plain": [
       "<Figure size 432x288 with 1 Axes>"
      ]
     },
     "metadata": {
      "needs_background": "light"
     },
     "output_type": "display_data"
    }
   ],
   "source": [
    "# The x and y values come from the two\n",
    "# Principal Components and the colors for\n",
    "# each point are selected based on the\n",
    "# corresponding class for each point...\n",
    "plt.scatter(PCs[:,0],PCs[:,1],\n",
    "color=[['red','green','blue'][i] for i in Y.astype(int)])\n",
    "plt.xlabel(\"PC1\")\n",
    "plt.ylabel(\"PC2\")\n",
    "plt.show()"
   ]
  },
  {
   "cell_type": "code",
   "execution_count": 16,
   "metadata": {},
   "outputs": [
    {
     "data": {
      "text/plain": [
       "array([[-0.71650026, -0.61416263, -0.66494976,  0.13412923, -0.09925737,\n",
       "        -0.21324528],\n",
       "       [-0.6869961 , -0.15991818, -0.53854347, -0.24421767, -0.00475779,\n",
       "         0.02402957],\n",
       "       [-0.71650026,  0.23507699, -0.72815291, -0.52797784, -0.05200758,\n",
       "         0.49857928],\n",
       "       [-0.6869961 , -0.45616456, -1.48659065, -0.10233758, -0.00475779,\n",
       "        -0.21324528],\n",
       "       [-0.81091356, -0.15991818, -0.66494976,  0.20979861,  0.08974179,\n",
       "         0.6172167 ],\n",
       "       [-1.07055015, -0.14016842, -0.8545592 ,  0.32330268,  0.13699158,\n",
       "         0.37994185],\n",
       "       [-0.74010359, -0.29816649, -0.53854347,  0.32330268, -0.09925737,\n",
       "         0.6172167 ],\n",
       "       [-0.95253352, -0.37716553, -0.34893403,  0.66381488, -0.05200758,\n",
       "         0.49857928],\n",
       "       [-1.0233435 , -0.37716553, -0.34893403,  0.32330268, -0.05200758,\n",
       "         0.37994185],\n",
       "       [-0.88172354,  0.17582771, -0.34893403,  0.32330268, -0.05200758,\n",
       "         0.26130442],\n",
       "       [-0.73125234, -0.06116939, -0.34893403,  0.70164957, -0.05200758,\n",
       "         0.49857928],\n",
       "       [-0.7046986 , -0.25866697, -0.91776234, -0.58472987, -0.19375696,\n",
       "        -0.33188271],\n",
       "       [-0.64273987, -0.37716553, -0.90196156, -0.81173801,  0.042492  ,\n",
       "        -1.39961954],\n",
       "       [-0.53947532, -0.06116939, -0.91776234, -0.95361809, -0.00475779,\n",
       "         0.26130442],\n",
       "       [-0.33294622, -0.37716553, -0.98096549, -0.24421767, -0.05200758,\n",
       "         0.02402957],\n",
       "       [-0.480467  , -0.25866697, -0.98096549, -0.43339111, -0.05200758,\n",
       "        -1.6368944 ],\n",
       "       [-0.480467  ,  0.01782964, -1.04416863, -0.10233758, -0.05200758,\n",
       "        -0.45052013],\n",
       "       [-0.77550858, -0.06116939, -1.10737178, -0.10233758, -0.09925737,\n",
       "        -0.21324528],\n",
       "       [-0.77550858, -0.37716553, -0.98096549, -0.10233758, -0.09925737,\n",
       "         0.142667  ],\n",
       "       [-0.95253352, -0.15991818, -1.10737178,  0.32330268, -0.00475779,\n",
       "        -0.56915756],\n",
       "       [-0.77550858,  0.33382578, -0.79135605, -0.24421767, -0.00475779,\n",
       "        -0.56915756],\n",
       "       [-0.81091356,  0.01782964, -1.04416863, -0.81173801, -0.09925737,\n",
       "        -0.45052013],\n",
       "       [-0.88172354,  0.17582771, -0.72815291, -0.62256456, -0.09925737,\n",
       "        -1.16234469],\n",
       "       [-0.88172354, -0.14016842, -1.23377807, -1.15225021,  0.042492  ,\n",
       "        -1.10302598],\n",
       "       [-0.77550858, -0.77216069,  1.04153517, -0.35772173, -0.80800425,\n",
       "        -0.68779499],\n",
       "       [-0.63388862, -0.69316166,  1.48395719, -0.35772173, -1.46950133,\n",
       "        -0.80643241],\n",
       "       [-0.66929361, -0.77216069,  0.67811708, -0.4712258 , -1.56400092,\n",
       "        -0.68779499],\n",
       "       [-0.59848363, -0.69316166,  1.2311446 , -0.24421767, -1.46950133,\n",
       "        -1.04370727],\n",
       "       [-0.66929361, -0.61416263,  1.3575509 , -0.24421767, -1.6585005 ,\n",
       "        -0.80643241],\n",
       "       [-0.66929361, -0.61416263,  1.67356662, -0.24421767, -1.37500175,\n",
       "        -0.65813563],\n",
       "       [-0.66929361, -0.85115973,  1.02046745, -0.4712258 , -1.51675113,\n",
       "        -0.92506984],\n",
       "       [-0.7046986 , -0.45616456,  0.97833202, -0.01720953, -0.93794118,\n",
       "        -0.68779499],\n",
       "       [-0.56307864, -0.45616456,  0.59911315,  0.20979861, -0.71350467,\n",
       "        -0.80643241],\n",
       "       [-0.59848363, -0.65366214,  1.04153517,  0.32330268, -0.94975363,\n",
       "        -1.16234469],\n",
       "       [-0.59848363, -1.16715586,  1.3575509 ,  0.77731895, -0.99700342,\n",
       "        -1.04370727],\n",
       "       [-0.52767366, -1.08815683,  1.54716033, -0.01720953, -0.66625488,\n",
       "        -0.80643241],\n",
       "       [-0.49226867, -1.2461549 ,  1.92637921,  0.32330268, -1.18600258,\n",
       "        -1.51825697],\n",
       "       [-0.7046986 , -1.32515393,  1.79997291,  0.43680675, -0.71350467,\n",
       "        -0.92506984],\n",
       "       [-0.88172354, -1.16715586,  1.98958235,  0.89082302, -0.66625488,\n",
       "        -1.04370727],\n",
       "       [-0.49226867, -1.56215103,  1.73676977,  0.66381488, -0.80800425,\n",
       "        -0.80643241],\n",
       "       [-0.74010359, -1.483152  ,  1.67356662,  0.55031081, -1.04425321,\n",
       "        -1.2018905 ],\n",
       "       [-0.59848363, -1.2461549 ,  0.83612495,  1.23133522, -0.85525404,\n",
       "        -0.80643241],\n",
       "       [-0.59848363, -1.32515393,  1.10473831,  1.00432709, -0.94975363,\n",
       "        -0.80643241],\n",
       "       [-0.59848363, -1.32515393,  1.48395719,  0.89082302, -1.18600258,\n",
       "        -1.6368944 ],\n",
       "       [-0.63388862, -1.40415296,  1.15214067,  0.89082302, -1.42225154,\n",
       "        -0.9547292 ],\n",
       "       [-0.66929361, -1.483152  ,  0.83612495,  1.00432709, -1.75300008,\n",
       "        -0.92506984],\n",
       "       [-0.66929361, -1.40415296,  1.04153517,  1.00432709, -1.61125071,\n",
       "        -0.80643241],\n",
       "       [-0.63388862, -1.40415296,  1.3575509 ,  0.32330268, -1.42225154,\n",
       "        -0.68779499],\n",
       "       [ 1.56122067,  0.96581805, -0.60174661,  2.36637591,  0.75123888,\n",
       "         0.142667  ],\n",
       "       [ 1.52581568,  1.28181418, -0.42793796,  2.36637591,  1.05048756,\n",
       "         0.37994185],\n",
       "       [ 0.99474085,  0.72882095, -0.72815291,  1.79885557,  1.176487  ,\n",
       "         1.41801933],\n",
       "       [ 1.56122067,  0.41282481, -0.60174661,  1.23133522,  1.18829945,\n",
       "        -0.80643241],\n",
       "       [ 1.52581568,  0.49182384, -0.66494976,  2.0258637 ,  0.89298825,\n",
       "         0.6172167 ],\n",
       "       [ 1.45500571,  0.96581805, -0.34893403,  2.82039218,  1.24736169,\n",
       "         0.85449156],\n",
       "       [ 1.48155945,  0.17582771, -0.58594583,  1.91235964,  0.9717379 ,\n",
       "         1.12142576],\n",
       "       [ 1.95067555,  2.15080355, -0.8545592 , -1.15225021,  0.89298825,\n",
       "         1.32904126],\n",
       "       [ 1.13636081,  1.43981225,  0.17775885, -1.15225021,  1.48361065,\n",
       "         0.67653542],\n",
       "       [ 1.49041069,  1.04481708,  0.28309742, -0.81173801,  1.83798408,\n",
       "         1.12142576],\n",
       "       [ 0.95933587,  1.04481708,  0.36210135, -0.81173801,  1.77892185,\n",
       "         0.8248322 ],\n",
       "       [ 1.45500571,  1.28181418,  0.28309742, -1.03874615,  1.71985961,\n",
       "         1.56631611],\n",
       "       [ 1.20717079,  1.51881128, -0.34893403, -0.58472987,  1.36548617,\n",
       "         1.92222839],\n",
       "       [ 1.45500571,  1.20281515, -0.66494976, -1.60626649,  1.12923721,\n",
       "         1.32904126],\n",
       "       [ 1.34879074,  1.91380645, -0.34893403, -1.71977056,  1.176487  ,\n",
       "         1.09176641],\n",
       "       [ 1.34879074,  1.51881128, -0.66494976, -1.26575428,  1.03473763,\n",
       "         0.6172167 ],\n",
       "       [ 1.56122067,  1.20281515, -0.72815291, -1.49276242,  1.07017497,\n",
       "         1.92222839],\n",
       "       [ 1.39304698,  1.04481708, -0.60174661, -1.37925835,  1.01111273,\n",
       "         0.97312898],\n",
       "       [ 1.38419573,  1.20281515, -0.60174661, -0.58472987,  1.12923721,\n",
       "         1.09176641],\n",
       "       [ 1.27798076,  0.80781998, -0.55961118, -0.4712258 ,  1.12923721,\n",
       "         1.09176641],\n",
       "       [ 1.45500571,  1.59781032, -0.22252774, -2.06028276,  1.41273596,\n",
       "         0.97312898],\n",
       "       [ 1.03899709,  1.61756007, -0.19092617, -1.15225021,  1.54267289,\n",
       "         2.45609681],\n",
       "       [ 1.34879074,  1.20281515, -0.77028834, -0.69823394,  1.36548617,\n",
       "         1.7146129 ],\n",
       "       [ 1.52581568,  2.15080355, -1.92901267, -0.92524208,  0.30236585,\n",
       "         1.92222839]])"
      ]
     },
     "execution_count": 16,
     "metadata": {},
     "output_type": "execute_result"
    }
   ],
   "source": [
    "X"
   ]
  },
  {
   "cell_type": "code",
   "execution_count": null,
   "metadata": {},
   "outputs": [],
   "source": []
  }
 ],
 "metadata": {
  "kernelspec": {
   "display_name": "Python 3",
   "language": "python",
   "name": "python3"
  },
  "language_info": {
   "codemirror_mode": {
    "name": "ipython",
    "version": 3
   },
   "file_extension": ".py",
   "mimetype": "text/x-python",
   "name": "python",
   "nbconvert_exporter": "python",
   "pygments_lexer": "ipython3",
   "version": "3.6.7"
  }
 },
 "nbformat": 4,
 "nbformat_minor": 2
}
