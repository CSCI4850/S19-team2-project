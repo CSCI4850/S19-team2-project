{
 "cells": [
  {
   "cell_type": "code",
   "execution_count": 40,
   "metadata": {},
   "outputs": [
    {
     "name": "stdout",
     "output_type": "stream",
     "text": [
      "(72, 7)\n"
     ]
    },
    {
     "data": {
      "text/plain": [
       "array([[-45.4       , -46.8       , -49.        , -53.        ,\n",
       "        -55.        , -56.        ,   0.        ],\n",
       "       [-43.6       , -47.        , -44.8       , -53.6       ,\n",
       "        -58.75      , -57.8       ,   1.        ],\n",
       "       [-43.4       , -49.4       , -44.6       , -51.8       ,\n",
       "        -61.6       , -58.        ,   1.        ],\n",
       "       [-43.        , -49.2       , -43.2       , -52.        ,\n",
       "        -59.8       , -59.4       ,   1.        ],\n",
       "       [-43.8       , -46.6       , -49.6       , -53.        ,\n",
       "        -55.2       , -55.6       ,   0.        ],\n",
       "       [-31.25      , -45.4       , -49.75      , -50.2       ,\n",
       "        -50.66666667, -54.75      ,   2.        ],\n",
       "       [-30.8       , -44.8       , -49.8       , -51.4       ,\n",
       "        -49.75      , -58.        ,   2.        ],\n",
       "       [-44.        , -45.        , -50.4       , -54.        ,\n",
       "        -54.8       , -57.6       ,   0.        ],\n",
       "       [-32.4       , -43.8       , -49.66666667, -54.4       ,\n",
       "        -50.        , -54.8       ,   2.        ],\n",
       "       [-43.4       , -47.8       , -45.75      , -54.4       ,\n",
       "        -61.4       , -57.8       ,   1.        ],\n",
       "       [-31.4       , -42.6       , -47.        , -55.4       ,\n",
       "        -47.5       , -54.        ,   2.        ],\n",
       "       [-43.4       , -48.        , -44.66666667, -54.4       ,\n",
       "        -61.2       , -58.2       ,   1.        ],\n",
       "       [-32.8       , -42.        , -49.        , -54.6       ,\n",
       "        -49.        , -53.4       ,   2.        ],\n",
       "       [-28.6       , -40.4       , -50.6       , -55.6       ,\n",
       "        -51.        , -54.4       ,   2.        ],\n",
       "       [-31.75      , -43.2       , -49.8       , -56.        ,\n",
       "        -50.5       , -55.        ,   2.        ],\n",
       "       [-42.4       , -49.8       , -42.4       , -52.4       ,\n",
       "        -58.2       , -58.        ,   1.        ],\n",
       "       [-43.        , -49.        , -45.25      , -51.4       ,\n",
       "        -58.4       , -58.        ,   1.        ],\n",
       "       [-31.        , -44.6       , -50.        , -50.        ,\n",
       "        -51.        , -55.6       ,   2.        ],\n",
       "       [-43.66666667, -47.4       , -50.        , -53.33333333,\n",
       "        -55.2       , -57.        ,   0.        ],\n",
       "       [-43.4       , -47.4       , -42.6       , -54.        ,\n",
       "        -60.6       , -57.75      ,   1.        ],\n",
       "       [-31.8       , -42.8       , -49.8       , -54.6       ,\n",
       "        -50.        , -54.8       ,   2.        ],\n",
       "       [-44.6       , -46.2       , -51.8       , -55.6       ,\n",
       "        -54.6       , -58.5       ,   0.        ],\n",
       "       [-43.        , -49.2       , -44.4       , -51.8       ,\n",
       "        -58.8       , -58.        ,   1.        ],\n",
       "       [-42.4       , -49.        , -41.8       , -53.        ,\n",
       "        -59.8       , -59.2       ,   1.        ],\n",
       "       [-43.5       , -47.        , -52.6       , -53.75      ,\n",
       "        -54.8       , -57.        ,   0.        ],\n",
       "       [-33.75      , -41.75      , -48.5       , -55.6       ,\n",
       "        -48.25      , -52.5       ,   2.        ],\n",
       "       [-43.2       , -47.6       , -43.2       , -54.2       ,\n",
       "        -61.        , -58.        ,   1.        ],\n",
       "       [-34.        , -44.        , -50.2       , -50.4       ,\n",
       "        -49.8       , -54.25      ,   2.        ],\n",
       "       [-43.2       , -49.4       , -43.6       , -53.        ,\n",
       "        -60.8       , -57.8       ,   1.        ],\n",
       "       [-42.66666667, -46.        , -50.8       , -55.25      ,\n",
       "        -54.8       , -56.2       ,   0.        ],\n",
       "       [-43.75      , -46.        , -49.        , -52.33333333,\n",
       "        -55.        , -55.8       ,   0.        ],\n",
       "       [-44.        , -47.8       , -44.6       , -54.2       ,\n",
       "        -58.2       , -57.8       ,   1.        ],\n",
       "       [-31.2       , -43.2       , -47.        , -55.        ,\n",
       "        -47.        , -54.75      ,   2.        ],\n",
       "       [-42.33333333, -45.8       , -51.2       , -53.75      ,\n",
       "        -55.        , -57.4       ,   0.        ],\n",
       "       [-43.6       , -46.5       , -50.8       , -54.6       ,\n",
       "        -55.6       , -57.2       ,   0.        ],\n",
       "       [-43.5       , -46.25      , -49.6       , -54.        ,\n",
       "        -54.8       , -56.6       ,   0.        ],\n",
       "       [-43.        , -47.6       , -44.        , -54.        ,\n",
       "        -61.        , -58.4       ,   1.        ],\n",
       "       [-44.        , -46.        , -51.4       , -53.75      ,\n",
       "        -55.2       , -57.        ,   0.        ],\n",
       "       [-33.2       , -42.2       , -47.33333333, -55.6       ,\n",
       "        -48.5       , -55.5       ,   2.        ],\n",
       "       [-31.4       , -42.8       , -50.        , -56.4       ,\n",
       "        -50.        , -54.4       ,   2.        ],\n",
       "       [-45.66666667, -46.2       , -50.6       , -53.        ,\n",
       "        -54.2       , -56.        ,   0.        ],\n",
       "       [-44.2       , -46.25      , -50.        , -53.2       ,\n",
       "        -54.4       , -55.6       ,   0.        ],\n",
       "       [-44.2       , -45.8       , -51.2       , -55.        ,\n",
       "        -55.2       , -57.4       ,   0.        ],\n",
       "       [-31.        , -42.6       , -49.25      , -49.4       ,\n",
       "        -50.33333333, -56.        ,   2.        ],\n",
       "       [-43.4       , -49.6       , -45.25      , -51.8       ,\n",
       "        -62.2       , -58.2       ,   1.        ],\n",
       "       [-44.        , -46.8       , -51.        , -53.75      ,\n",
       "        -55.2       , -56.4       ,   0.        ],\n",
       "       [-43.66666667, -45.25      , -50.2       , -54.5       ,\n",
       "        -55.        , -55.8       ,   0.        ],\n",
       "       [-32.        , -42.8       , -50.33333333, -54.8       ,\n",
       "        -49.        , -53.75      ,   2.        ],\n",
       "       [-41.5       , -46.8       , -51.        , -54.        ,\n",
       "        -55.        , -56.6       ,   0.        ],\n",
       "       [-45.        , -46.25      , -51.4       , -53.        ,\n",
       "        -54.8       , -57.6       ,   0.        ],\n",
       "       [-31.        , -40.4       , -54.        , -55.2       ,\n",
       "        -53.5       , -53.4       ,   2.        ],\n",
       "       [-31.4       , -43.4       , -49.        , -48.6       ,\n",
       "        -49.5       , -55.2       ,   2.        ],\n",
       "       [-43.        , -47.5       , -44.6       , -53.        ,\n",
       "        -58.8       , -58.6       ,   1.        ],\n",
       "       [-32.        , -41.        , -49.        , -56.6       ,\n",
       "        -49.8       , -54.8       ,   2.        ],\n",
       "       [-34.2       , -43.2       , -46.75      , -55.        ,\n",
       "        -47.25      , -55.25      ,   2.        ],\n",
       "       [-42.8       , -47.        , -46.        , -53.2       ,\n",
       "        -57.8       , -58.        ,   1.        ],\n",
       "       [-43.2       , -49.4       , -44.25      , -52.        ,\n",
       "        -60.8       , -58.25      ,   1.        ],\n",
       "       [-44.6       , -48.8       , -41.6       , -52.        ,\n",
       "        -57.6       , -58.4       ,   1.        ],\n",
       "       [-42.6       , -48.6       , -43.        , -53.6       ,\n",
       "        -57.6       , -58.        ,   1.        ],\n",
       "       [-30.8       , -43.4       , -49.8       , -49.4       ,\n",
       "        -51.6       , -56.4       ,   2.        ],\n",
       "       [-43.4       , -47.4       , -43.6       , -54.        ,\n",
       "        -61.8       , -58.        ,   1.        ],\n",
       "       [-42.33333333, -46.5       , -51.        , -54.33333333,\n",
       "        -55.        , -59.4       ,   0.        ],\n",
       "       [-43.25      , -46.8       , -50.75      , -55.        ,\n",
       "        -54.6       , -59.        ,   0.        ],\n",
       "       [-43.8       , -49.6       , -42.6       , -52.6       ,\n",
       "        -59.2       , -58.66666667,   1.        ],\n",
       "       [-32.        , -42.        , -50.        , -55.8       ,\n",
       "        -50.4       , -55.6       ,   2.        ],\n",
       "       [-43.        , -48.8       , -43.6       , -52.2       ,\n",
       "        -59.        , -58.4       ,   1.        ],\n",
       "       [-43.6       , -49.2       , -42.2       , -52.8       ,\n",
       "        -57.8       , -58.2       ,   1.        ],\n",
       "       [-45.        , -46.8       , -49.        , -52.4       ,\n",
       "        -55.        , -55.8       ,   0.        ],\n",
       "       [-44.6       , -45.4       , -50.2       , -54.66666667,\n",
       "        -55.2       , -58.6       ,   0.        ],\n",
       "       [-31.4       , -41.8       , -48.6       , -57.2       ,\n",
       "        -48.8       , -55.        ,   2.        ],\n",
       "       [-44.6       , -45.4       , -49.        , -53.        ,\n",
       "        -55.        , -56.2       ,   0.        ],\n",
       "       [-30.8       , -42.8       , -50.2       , -56.2       ,\n",
       "        -50.25      , -53.4       ,   2.        ]])"
      ]
     },
     "metadata": {},
     "output_type": "display_data"
    }
   ],
   "source": [
    "import numpy as np\n",
    "import keras\n",
    "import pandas\n",
    "from keras_tqdm import TQDMNotebookCallback\n",
    "\n",
    "data = np.array(pandas.read_csv(\"~/trainingdata.csv\", header=0))\n",
    "\n",
    "print(data.shape)\n",
    "display(data)"
   ]
  },
  {
   "cell_type": "code",
   "execution_count": 9,
   "metadata": {},
   "outputs": [
    {
     "name": "stdout",
     "output_type": "stream",
     "text": [
      "(72, 6)\n"
     ]
    },
    {
     "data": {
      "text/plain": [
       "array([[-45.4       , -46.8       , -49.        , -53.        ,\n",
       "        -55.        , -56.        ],\n",
       "       [-43.6       , -47.        , -44.8       , -53.6       ,\n",
       "        -58.75      , -57.8       ],\n",
       "       [-43.4       , -49.4       , -44.6       , -51.8       ,\n",
       "        -61.6       , -58.        ],\n",
       "       [-43.        , -49.2       , -43.2       , -52.        ,\n",
       "        -59.8       , -59.4       ],\n",
       "       [-43.8       , -46.6       , -49.6       , -53.        ,\n",
       "        -55.2       , -55.6       ],\n",
       "       [-31.25      , -45.4       , -49.75      , -50.2       ,\n",
       "        -50.66666667, -54.75      ],\n",
       "       [-30.8       , -44.8       , -49.8       , -51.4       ,\n",
       "        -49.75      , -58.        ],\n",
       "       [-44.        , -45.        , -50.4       , -54.        ,\n",
       "        -54.8       , -57.6       ],\n",
       "       [-32.4       , -43.8       , -49.66666667, -54.4       ,\n",
       "        -50.        , -54.8       ],\n",
       "       [-43.4       , -47.8       , -45.75      , -54.4       ,\n",
       "        -61.4       , -57.8       ],\n",
       "       [-31.4       , -42.6       , -47.        , -55.4       ,\n",
       "        -47.5       , -54.        ],\n",
       "       [-43.4       , -48.        , -44.66666667, -54.4       ,\n",
       "        -61.2       , -58.2       ],\n",
       "       [-32.8       , -42.        , -49.        , -54.6       ,\n",
       "        -49.        , -53.4       ],\n",
       "       [-28.6       , -40.4       , -50.6       , -55.6       ,\n",
       "        -51.        , -54.4       ],\n",
       "       [-31.75      , -43.2       , -49.8       , -56.        ,\n",
       "        -50.5       , -55.        ],\n",
       "       [-42.4       , -49.8       , -42.4       , -52.4       ,\n",
       "        -58.2       , -58.        ],\n",
       "       [-43.        , -49.        , -45.25      , -51.4       ,\n",
       "        -58.4       , -58.        ],\n",
       "       [-31.        , -44.6       , -50.        , -50.        ,\n",
       "        -51.        , -55.6       ],\n",
       "       [-43.66666667, -47.4       , -50.        , -53.33333333,\n",
       "        -55.2       , -57.        ],\n",
       "       [-43.4       , -47.4       , -42.6       , -54.        ,\n",
       "        -60.6       , -57.75      ],\n",
       "       [-31.8       , -42.8       , -49.8       , -54.6       ,\n",
       "        -50.        , -54.8       ],\n",
       "       [-44.6       , -46.2       , -51.8       , -55.6       ,\n",
       "        -54.6       , -58.5       ],\n",
       "       [-43.        , -49.2       , -44.4       , -51.8       ,\n",
       "        -58.8       , -58.        ],\n",
       "       [-42.4       , -49.        , -41.8       , -53.        ,\n",
       "        -59.8       , -59.2       ],\n",
       "       [-43.5       , -47.        , -52.6       , -53.75      ,\n",
       "        -54.8       , -57.        ],\n",
       "       [-33.75      , -41.75      , -48.5       , -55.6       ,\n",
       "        -48.25      , -52.5       ],\n",
       "       [-43.2       , -47.6       , -43.2       , -54.2       ,\n",
       "        -61.        , -58.        ],\n",
       "       [-34.        , -44.        , -50.2       , -50.4       ,\n",
       "        -49.8       , -54.25      ],\n",
       "       [-43.2       , -49.4       , -43.6       , -53.        ,\n",
       "        -60.8       , -57.8       ],\n",
       "       [-42.66666667, -46.        , -50.8       , -55.25      ,\n",
       "        -54.8       , -56.2       ],\n",
       "       [-43.75      , -46.        , -49.        , -52.33333333,\n",
       "        -55.        , -55.8       ],\n",
       "       [-44.        , -47.8       , -44.6       , -54.2       ,\n",
       "        -58.2       , -57.8       ],\n",
       "       [-31.2       , -43.2       , -47.        , -55.        ,\n",
       "        -47.        , -54.75      ],\n",
       "       [-42.33333333, -45.8       , -51.2       , -53.75      ,\n",
       "        -55.        , -57.4       ],\n",
       "       [-43.6       , -46.5       , -50.8       , -54.6       ,\n",
       "        -55.6       , -57.2       ],\n",
       "       [-43.5       , -46.25      , -49.6       , -54.        ,\n",
       "        -54.8       , -56.6       ],\n",
       "       [-43.        , -47.6       , -44.        , -54.        ,\n",
       "        -61.        , -58.4       ],\n",
       "       [-44.        , -46.        , -51.4       , -53.75      ,\n",
       "        -55.2       , -57.        ],\n",
       "       [-33.2       , -42.2       , -47.33333333, -55.6       ,\n",
       "        -48.5       , -55.5       ],\n",
       "       [-31.4       , -42.8       , -50.        , -56.4       ,\n",
       "        -50.        , -54.4       ],\n",
       "       [-45.66666667, -46.2       , -50.6       , -53.        ,\n",
       "        -54.2       , -56.        ],\n",
       "       [-44.2       , -46.25      , -50.        , -53.2       ,\n",
       "        -54.4       , -55.6       ],\n",
       "       [-44.2       , -45.8       , -51.2       , -55.        ,\n",
       "        -55.2       , -57.4       ],\n",
       "       [-31.        , -42.6       , -49.25      , -49.4       ,\n",
       "        -50.33333333, -56.        ],\n",
       "       [-43.4       , -49.6       , -45.25      , -51.8       ,\n",
       "        -62.2       , -58.2       ],\n",
       "       [-44.        , -46.8       , -51.        , -53.75      ,\n",
       "        -55.2       , -56.4       ],\n",
       "       [-43.66666667, -45.25      , -50.2       , -54.5       ,\n",
       "        -55.        , -55.8       ],\n",
       "       [-32.        , -42.8       , -50.33333333, -54.8       ,\n",
       "        -49.        , -53.75      ],\n",
       "       [-41.5       , -46.8       , -51.        , -54.        ,\n",
       "        -55.        , -56.6       ],\n",
       "       [-45.        , -46.25      , -51.4       , -53.        ,\n",
       "        -54.8       , -57.6       ],\n",
       "       [-31.        , -40.4       , -54.        , -55.2       ,\n",
       "        -53.5       , -53.4       ],\n",
       "       [-31.4       , -43.4       , -49.        , -48.6       ,\n",
       "        -49.5       , -55.2       ],\n",
       "       [-43.        , -47.5       , -44.6       , -53.        ,\n",
       "        -58.8       , -58.6       ],\n",
       "       [-32.        , -41.        , -49.        , -56.6       ,\n",
       "        -49.8       , -54.8       ],\n",
       "       [-34.2       , -43.2       , -46.75      , -55.        ,\n",
       "        -47.25      , -55.25      ],\n",
       "       [-42.8       , -47.        , -46.        , -53.2       ,\n",
       "        -57.8       , -58.        ],\n",
       "       [-43.2       , -49.4       , -44.25      , -52.        ,\n",
       "        -60.8       , -58.25      ],\n",
       "       [-44.6       , -48.8       , -41.6       , -52.        ,\n",
       "        -57.6       , -58.4       ],\n",
       "       [-42.6       , -48.6       , -43.        , -53.6       ,\n",
       "        -57.6       , -58.        ],\n",
       "       [-30.8       , -43.4       , -49.8       , -49.4       ,\n",
       "        -51.6       , -56.4       ],\n",
       "       [-43.4       , -47.4       , -43.6       , -54.        ,\n",
       "        -61.8       , -58.        ],\n",
       "       [-42.33333333, -46.5       , -51.        , -54.33333333,\n",
       "        -55.        , -59.4       ],\n",
       "       [-43.25      , -46.8       , -50.75      , -55.        ,\n",
       "        -54.6       , -59.        ],\n",
       "       [-43.8       , -49.6       , -42.6       , -52.6       ,\n",
       "        -59.2       , -58.66666667],\n",
       "       [-32.        , -42.        , -50.        , -55.8       ,\n",
       "        -50.4       , -55.6       ],\n",
       "       [-43.        , -48.8       , -43.6       , -52.2       ,\n",
       "        -59.        , -58.4       ],\n",
       "       [-43.6       , -49.2       , -42.2       , -52.8       ,\n",
       "        -57.8       , -58.2       ],\n",
       "       [-45.        , -46.8       , -49.        , -52.4       ,\n",
       "        -55.        , -55.8       ],\n",
       "       [-44.6       , -45.4       , -50.2       , -54.66666667,\n",
       "        -55.2       , -58.6       ],\n",
       "       [-31.4       , -41.8       , -48.6       , -57.2       ,\n",
       "        -48.8       , -55.        ],\n",
       "       [-44.6       , -45.4       , -49.        , -53.        ,\n",
       "        -55.        , -56.2       ],\n",
       "       [-30.8       , -42.8       , -50.2       , -56.2       ,\n",
       "        -50.25      , -53.4       ]])"
      ]
     },
     "metadata": {},
     "output_type": "display_data"
    },
    {
     "name": "stdout",
     "output_type": "stream",
     "text": [
      "(72,)\n"
     ]
    },
    {
     "data": {
      "text/plain": [
       "array([0., 1., 1., 1., 0., 2., 2., 0., 2., 1., 2., 1., 2., 2., 2., 1., 1.,\n",
       "       2., 0., 1., 2., 0., 1., 1., 0., 2., 1., 2., 1., 0., 0., 1., 2., 0.,\n",
       "       0., 0., 1., 0., 2., 2., 0., 0., 0., 2., 1., 0., 0., 2., 0., 0., 2.,\n",
       "       2., 1., 2., 2., 1., 1., 1., 1., 2., 1., 0., 0., 1., 2., 1., 1., 0.,\n",
       "       0., 2., 0., 2.])"
      ]
     },
     "metadata": {},
     "output_type": "display_data"
    }
   ],
   "source": [
    "from sympy import *\n",
    "init_printing(use_latex=True)\n",
    "\n",
    "import matplotlib.pyplot as plt\n",
    "%matplotlib inline\n",
    "\n",
    "X = data[:,0:6]\n",
    "print(X.shape)\n",
    "display(X)\n",
    "\n",
    "labels = data[:,6]\n",
    "print(labels.shape)\n",
    "display(labels)\n",
    "\n",
    "Y = keras.utils.to_categorical(labels, len(np.unique(labels)))"
   ]
  },
  {
   "cell_type": "code",
   "execution_count": 10,
   "metadata": {},
   "outputs": [
    {
     "data": {
      "image/png": "[encoded data removed]",
      "text/latex": [
       "$$6$$"
      ],
      "text/plain": [
       "6"
      ]
     },
     "metadata": {},
     "output_type": "display_data"
    }
   ],
   "source": [
    "input_size = X.shape[1]\n",
    "output_size = Y.shape[1]\n",
    "display(X.shape[1])"
   ]
  },
  {
   "cell_type": "code",
   "execution_count": 37,
   "metadata": {},
   "outputs": [
    {
     "name": "stdout",
     "output_type": "stream",
     "text": [
      "_________________________________________________________________\n",
      "Layer (type)                 Output Shape              Param #   \n",
      "=================================================================\n",
      "dense_13 (Dense)             (None, 100)               700       \n",
      "_________________________________________________________________\n",
      "dense_14 (Dense)             (None, 100)               10100     \n",
      "_________________________________________________________________\n",
      "dense_15 (Dense)             (None, 100)               10100     \n",
      "_________________________________________________________________\n",
      "dense_16 (Dense)             (None, 3)                 303       \n",
      "=================================================================\n",
      "Total params: 21,203\n",
      "Trainable params: 21,203\n",
      "Non-trainable params: 0\n",
      "_________________________________________________________________\n",
      "None\n"
     ]
    }
   ],
   "source": [
    "model = keras.models.Sequential()\n",
    "\n",
    "model.add(keras.layers.Dense(100,input_dim=6,activation='relu', bias_initializer=keras.initializers.Constant(value=0.01)))\n",
    "model.add(keras.layers.Dense(100,input_dim=6,activation='relu', bias_initializer=keras.initializers.Constant(value=0.01)))\n",
    "model.add(keras.layers.Dense(100,input_dim=6,activation='relu', bias_initializer=keras.initializers.Constant(value=0.01)))\n",
    "\n",
    "model.add(keras.layers.Dense(3,activation='softmax'))\n",
    "#binary_crossentropy\n",
    "model.compile(loss='binary_crossentropy',optimizer='adam',metrics=['accuracy'])\n",
    "\n",
    "print(model.summary())"
   ]
  },
  {
   "cell_type": "code",
   "execution_count": 38,
   "metadata": {},
   "outputs": [
    {
     "data": {
      "application/vnd.jupyter.widget-view+json": {
       "model_id": "91f3b336fdeb42f38543a3cd5e3dd708",
       "version_major": 2,
       "version_minor": 0
      },
      "text/plain": [
       "HBox(children=(IntProgress(value=0, description='Training', style=ProgressStyle(description_width='initial')),…"
      ]
     },
     "metadata": {},
     "output_type": "display_data"
    },
    {
     "data": {
      "application/vnd.jupyter.widget-view+json": {
       "model_id": "",
       "version_major": 2,
       "version_minor": 0
      },
      "text/plain": [
       "HBox(children=(IntProgress(value=0, description='Epoch 0', max=54, style=ProgressStyle(description_width='init…"
      ]
     },
     "metadata": {},
     "output_type": "display_data"
    },
    {
     "name": "stdout",
     "output_type": "stream",
     "text": [
      "\n"
     ]
    }
   ],
   "source": [
    "history = model.fit(X, Y,\n",
    "    batch_size=56, \n",
    "    epochs=100, \n",
    "    verbose=0,\n",
    "    callbacks=[TQDMNotebookCallback()],\n",
    "    validation_split = 0.25)\n"
   ]
  },
  {
   "cell_type": "code",
   "execution_count": 39,
   "metadata": {},
   "outputs": [
    {
     "data": {
      "image/png": "[encoded data removed]",
      "text/plain": [
       "<Figure size 432x288 with 2 Axes>"
      ]
     },
     "metadata": {
      "needs_background": "light"
     },
     "output_type": "display_data"
    },
    {
     "name": "stdout",
     "output_type": "stream",
     "text": [
      "72/72 [==============================] - 0s 250us/step\n",
      "Test loss: 0.030218138876888487\n",
      "Test accuracy: 1.0\n"
     ]
    }
   ],
   "source": [
    "plt.figure(1)\n",
    "\n",
    "plt.subplot(211)\n",
    "plt.plot(history.history['acc'])\n",
    "plt.plot(history.history['val_acc'])\n",
    "plt.title('model accuracy')\n",
    "plt.ylabel('accuracy')\n",
    "plt.xlabel('epoch')\n",
    "plt.legend(['train', 'test'], loc='upper left')\n",
    "\n",
    "plt.subplot(212)\n",
    "plt.plot(history.history['loss'])\n",
    "plt.plot(history.history['val_loss'])\n",
    "plt.title('model loss')\n",
    "plt.ylabel('loss')\n",
    "plt.xlabel('epoch')\n",
    "plt.legend(['train', 'test'], loc='upper left')\n",
    "plt.tight_layout()\n",
    "plt.show()\n",
    "\n",
    "score = model.evaluate(X, Y, verbose=1)\n",
    "print('Test loss:', score[0])\n",
    "print('Test accuracy:', score[1])"
   ]
  },
  {
   "cell_type": "code",
   "execution_count": null,
   "metadata": {},
   "outputs": [],
   "source": []
  }
 ],
 "metadata": {
  "kernelspec": {
   "display_name": "Python 3",
   "language": "python",
   "name": "python3"
  },
  "language_info": {
   "codemirror_mode": {
    "name": "ipython",
    "version": 3
   },
   "file_extension": ".py",
   "mimetype": "text/x-python",
   "name": "python",
   "nbconvert_exporter": "python",
   "pygments_lexer": "ipython3",
   "version": "3.6.7"
  }
 },
 "nbformat": 4,
 "nbformat_minor": 2
}
