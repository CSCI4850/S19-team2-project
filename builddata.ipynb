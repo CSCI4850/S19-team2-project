{
 "cells": [
  {
   "cell_type": "code",
   "execution_count": 1,
   "metadata": {},
   "outputs": [],
   "source": [
    "import pandas as pd\n",
    "import numpy as np"
   ]
  },
  {
   "cell_type": "code",
   "execution_count": 27,
   "metadata": {},
   "outputs": [
    {
     "name": "stdout",
     "output_type": "stream",
     "text": [
      "MAC Address  C0-56-27-18-69-64  C0-56-27-18-69-66  D8-84-66-13-10-00  \\\n",
      "RSSI1                    -55.0              -55.0                -57   \n",
      "RSSI2                      NaN                NaN                -57   \n",
      "RSSI3                    -73.0              -56.0                -57   \n",
      "RSSI4                    -61.0              -60.0                -57   \n",
      "RSSI5                    -57.0              -62.0                -57   \n",
      "\n",
      "MAC Address  D8-84-66-12-51-60  C0-56-27-18-69-65  76-40-BB-75-35-99  \n",
      "RSSI1                      -64                -67              -72.0  \n",
      "RSSI2                      -64                -67                NaN  \n",
      "RSSI3                      -64                -67              -72.0  \n",
      "RSSI4                      -64                -67              -71.0  \n",
      "RSSI5                      -64                -66              -70.0  \n",
      "[-58.88235294117647, -58.76470588235294, -56.95, -64.05, -66.4, -72.0, 1]\n",
      "MAC Address  C0-56-27-18-69-64  C0-56-27-18-69-66  D8-84-66-13-10-00  \\\n",
      "RSSI1                    -45.0              -45.0                -50   \n",
      "RSSI2                    -43.0              -44.0                -56   \n",
      "RSSI3                      NaN                NaN                -50   \n",
      "RSSI4                    -44.0              -44.0                -50   \n",
      "RSSI5                    -44.0                NaN                -50   \n",
      "\n",
      "MAC Address  D8-84-66-12-51-60  C0-56-27-18-69-65  76-40-BB-75-35-99  \n",
      "RSSI1                      -63                -47              -74.0  \n",
      "RSSI2                      -63                -46              -77.0  \n",
      "RSSI3                      -65                -48              -75.0  \n",
      "RSSI4                      -64                -47              -76.0  \n",
      "RSSI5                      -64                -47              -77.0  \n",
      "[-44.25, -44.5, -50.55, -64.1, -47.0, -76.11764705882354, 2]\n",
      "MAC Address  C0-56-27-18-69-64  C0-56-27-18-69-66  D8-84-66-13-10-00  \\\n",
      "RSSI1                    -46.0              -47.0                -52   \n",
      "RSSI2                      NaN              -47.0                -51   \n",
      "RSSI3                    -46.0              -46.0                -51   \n",
      "RSSI4                    -47.0              -47.0                -51   \n",
      "RSSI5                      NaN              -49.0                -51   \n",
      "\n",
      "MAC Address  D8-84-66-12-51-60  C0-56-27-18-69-65  76-40-BB-75-35-99  \n",
      "RSSI1                      -53                -56              -67.0  \n",
      "RSSI2                      -54                -56              -67.0  \n",
      "RSSI3                      -53                -56              -74.0  \n",
      "RSSI4                      -53                -56              -74.0  \n",
      "RSSI5                      -54                -55              -75.0  \n",
      "[-47.0, -47.55555555555556, -50.75, -53.4, -55.75, -71.47368421052632, 3]\n"
     ]
    }
   ],
   "source": [
    "numFiles = 3\n",
    "numScan = 20\n",
    "\n",
    "## for each location file\n",
    "for i in range(1,numFiles+1):\n",
    "    dirPath = \"location_\" + str(i) + \"_data/\"\n",
    "    for j in range(1,numScan+1):\n",
    "        subPath = \"db%s.csv\" % j\n",
    "        path = dirPath + subPath\n",
    "        ## \"file_{}.dat\".format(i)\n",
    "        data = pd.read_csv(path)\n",
    "        \n",
    "        new = data[['MAC Address','RSSI']]\n",
    "        new = new.set_index('MAC Address')\n",
    "        if j == 1:\n",
    "            if i == 1:\n",
    "                ## using top 6 initial signal strengths (can be changed for specific case)\n",
    "                ## these 6 will refer to 6 highest potential APs\n",
    "                ref = new[0:6]\n",
    "                reflist = ref.index.values.tolist()\n",
    "                base = pd.DataFrame(index=ref.index)\n",
    "            fulldf = base\n",
    "        new = new['RSSI'].to_dict()\n",
    "        applist = []\n",
    "        for k in reflist:\n",
    "            toapp = 0\n",
    "            for x,y in new.items():\n",
    "                if x == k:\n",
    "                    toapp = y\n",
    "            applist.append(toapp)\n",
    "        add = np.asarray(applist)\n",
    "        fulldf[('RSSI%d' % j)] = add\n",
    "    ## fulldf now refers to all rssi values sorted by scan and AP(MAC Address) for 1 vector\n",
    "    ## We must now transpose each df, find the average RSSI and append the resulting vector\n",
    "    ## to our final data df, then export as a csv\n",
    "    fulldf = fulldf.T\n",
    "    ## replace all zero values with nan\n",
    "    fulldf.replace(0, np.nan, inplace= True)\n",
    "    print(fulldf.head())\n",
    "    ## create the vector which will be fed to NN\n",
    "    vec = []\n",
    "    \n",
    "    for column in fulldf:\n",
    "        avg = fulldf[column].mean()\n",
    "        vec.append(avg)\n",
    "    vec.append(i)\n",
    "    print(vec)"
   ]
  },
  {
   "cell_type": "code",
   "execution_count": null,
   "metadata": {},
   "outputs": [],
   "source": []
  }
 ],
 "metadata": {
  "kernelspec": {
   "display_name": "Python 3",
   "language": "python",
   "name": "python3"
  },
  "language_info": {
   "codemirror_mode": {
    "name": "ipython",
    "version": 3
   },
   "file_extension": ".py",
   "mimetype": "text/x-python",
   "name": "python",
   "nbconvert_exporter": "python",
   "pygments_lexer": "ipython3",
   "version": "3.6.7"
  }
 },
 "nbformat": 4,
 "nbformat_minor": 2
}
