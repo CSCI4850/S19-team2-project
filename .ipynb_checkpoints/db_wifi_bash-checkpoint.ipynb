{
 "cells": [
  {
   "cell_type": "code",
   "execution_count": 1,
   "metadata": {},
   "outputs": [
    {
     "name": "stdout",
     "output_type": "stream",
     "text": [
      "i\n",
      "i\n"
     ]
    }
   ],
   "source": [
    "## this is a bash conversion of db_wifiinfo.bat\n",
    "#!/bin/bash\n",
    "for i in {1..2}\n",
    "do\n",
    "   echo i\n",
    "   wine WifiInfoView.exe /NumberOfScans 1 /scomma \"db$i.csv\"\n",
    "done"
   ]
  },
  {
   "cell_type": "code",
   "execution_count": null,
   "metadata": {},
   "outputs": [],
   "source": []
  }
 ],
 "metadata": {
  "kernelspec": {
   "display_name": "Bash",
   "language": "bash",
   "name": "bash"
  },
  "language_info": {
   "codemirror_mode": "shell",
   "file_extension": ".sh",
   "mimetype": "text/x-sh",
   "name": "bash"
  }
 },
 "nbformat": 4,
 "nbformat_minor": 2
}
