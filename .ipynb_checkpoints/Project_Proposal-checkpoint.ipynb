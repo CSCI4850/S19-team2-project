{
 "cells": [
  {
   "cell_type": "markdown",
   "metadata": {},
   "source": [
    "# Project proposal"
   ]
  },
  {
   "cell_type": "markdown",
   "metadata": {},
   "source": [
    "####    As team \"Neocognitron\" we are going to create a program allows the user to determine their indoor location using the CAFLOC wireless localization method in a neural net.  We are currently thinking of appproaching the problem in one of two ways.  We will use a multilayer network or tranform our RSS data into images and use a CNN.  The CAFLOC method for localization requires a reference device and a target device.  The reference device is used to fingerprint locations in a room and the target device uses the fingerprint and relative RSS signals from different wireless access points to determine if it is at one of the fingerprinted locations.  We will use a laptop as the reference device to fingerprint 4 locations in the classroom, this data will consist of RSS values, AP ids, signal strengths and possibly more and will be used to train our NN to identify the lacations.  We will than use a Dongle wireless device as a target device, do a realtime transformation on data being taken by the device and run it through our model to determine where the target device is in the room.  At this point our location classes will be given to the target device in a \"closest to\" manner."
   ]
  },
  {
   "cell_type": "code",
   "execution_count": null,
   "metadata": {},
   "outputs": [],
   "source": []
  }
 ],
 "metadata": {
  "kernelspec": {
   "display_name": "Python 3",
   "language": "python",
   "name": "python3"
  },
  "language_info": {
   "codemirror_mode": {
    "name": "ipython",
    "version": 3
   },
   "file_extension": ".py",
   "mimetype": "text/x-python",
   "name": "python",
   "nbconvert_exporter": "python",
   "pygments_lexer": "ipython3",
   "version": "3.6.7"
  }
 },
 "nbformat": 4,
 "nbformat_minor": 2
}
