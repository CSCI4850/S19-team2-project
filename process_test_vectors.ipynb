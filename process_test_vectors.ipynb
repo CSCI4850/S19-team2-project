{
 "cells": [
  {
   "cell_type": "markdown",
   "metadata": {},
   "source": [
    "#### Each test vector was 20 scans taken at a location within the fingerprinted room."
   ]
  },
  {
   "cell_type": "code",
   "execution_count": 23,
   "metadata": {},
   "outputs": [],
   "source": [
    "import numpy as np\n",
    "import pandas as pd\n",
    "import pickle\n",
    "\n",
    "## note reflist.pkl is in the pwd in this example\n",
    "## get reflist for AP dicrimination\n",
    "with open('reflist.pkl', 'rb') as f:\n",
    "    reflist = pickle.load(f)\n",
    "\n",
    "## base creates the base for the vector dataframe with correct APs\n",
    "base = pd.read_pickle(\"refbase.pkl\")"
   ]
  },
  {
   "cell_type": "code",
   "execution_count": 24,
   "metadata": {},
   "outputs": [
    {
     "name": "stdout",
     "output_type": "stream",
     "text": [
      "[-50.1875, -50.5, -53.526315789473685, -55.25, -59.5, -60.833333333333336, -61.4, -48.4]\n"
     ]
    }
   ],
   "source": [
    "## process a vector for testing (at loc 1)\n",
    "numdb = 20\n",
    "locPath = \"loc_1_test/\"\n",
    "for k in range(1,numdb+1):\n",
    "    dbPath = \"db%s.csv\" % k\n",
    "    path = locPath + dbPath\n",
    "    ## \"file_{}.dat\".format(i)\n",
    "    data = pd.read_csv(path)\n",
    "        \n",
    "    new = data[['MAC Address','RSSI']]\n",
    "    new = new.set_index('MAC Address')\n",
    "    vecdf = base\n",
    "    new = new['RSSI'].to_dict()\n",
    "    applist = []\n",
    "    for h in reflist:\n",
    "        toapp = 0\n",
    "        for x,y in new.items():\n",
    "            if x == h:\n",
    "                toapp = y\n",
    "        applist.append(toapp)\n",
    "    add = np.asarray(applist)\n",
    "    vecdf[('RSSI%d' % k)] = add\n",
    "## vecdf now refers to all rssi values sorted by scan and AP(MAC Address) for 1 vector\n",
    "## We must now transpose each df, find the average RSSI and append the resulting vector\n",
    "## to our final data df, then export as a csv\n",
    "vecdf = vecdf.T\n",
    "## replace all zero values with nan\n",
    "vecdf.replace(0, np.nan, inplace= True)\n",
    "## print(vecdf)\n",
    "## create the vector which will be fed to NN\n",
    "vec1 = []\n",
    "for column in vecdf:\n",
    "    avg = vecdf[column].mean()\n",
    "    vec1.append(avg)\n",
    "print(vec1)"
   ]
  },
  {
   "cell_type": "code",
   "execution_count": 25,
   "metadata": {},
   "outputs": [
    {
     "name": "stdout",
     "output_type": "stream",
     "text": [
      "[-44.4, -43.6, -52.9, -56.05, -53.333333333333336, -58.578947368421055, -49.5, -51.44444444444444]\n"
     ]
    }
   ],
   "source": [
    "## process a vector for testing (at loc 2)\n",
    "numdb = 20\n",
    "locPath = \"loc_2_test/\"\n",
    "for k in range(1,numdb+1):\n",
    "    dbPath = \"db%s.csv\" % k\n",
    "    path = locPath + dbPath\n",
    "    ## \"file_{}.dat\".format(i)\n",
    "    data = pd.read_csv(path)\n",
    "        \n",
    "    new = data[['MAC Address','RSSI']]\n",
    "    new = new.set_index('MAC Address')\n",
    "    vecdf = base\n",
    "    new = new['RSSI'].to_dict()\n",
    "    applist = []\n",
    "    for h in reflist:\n",
    "        toapp = 0\n",
    "        for x,y in new.items():\n",
    "            if x == h:\n",
    "                toapp = y\n",
    "        applist.append(toapp)\n",
    "    add = np.asarray(applist)\n",
    "    vecdf[('RSSI%d' % k)] = add\n",
    "## vecdf now refers to all rssi values sorted by scan and AP(MAC Address) for 1 vector\n",
    "## We must now transpose each df, find the average RSSI and append the resulting vector\n",
    "## to our final data df, then export as a csv\n",
    "vecdf = vecdf.T\n",
    "## replace all zero values with nan\n",
    "vecdf.replace(0, np.nan, inplace= True)\n",
    "## print(vecdf)\n",
    "## create the vector which will be fed to NN\n",
    "vec2 = []\n",
    "for column in vecdf:\n",
    "    avg = vecdf[column].mean()\n",
    "    vec2.append(avg)\n",
    "print(vec2)"
   ]
  },
  {
   "cell_type": "code",
   "execution_count": 26,
   "metadata": {},
   "outputs": [
    {
     "name": "stdout",
     "output_type": "stream",
     "text": [
      "[-49.94444444444444, -48.4, -48.55, -50.3, -58.0, -52.73684210526316, -57.8, -49.26315789473684]\n"
     ]
    }
   ],
   "source": [
    "## process a vector for testing (at loc 3)\n",
    "numdb = 20\n",
    "locPath = \"loc_3_test/\"\n",
    "for k in range(1,numdb+1):\n",
    "    dbPath = \"db%s.csv\" % k\n",
    "    path = locPath + dbPath\n",
    "    ## \"file_{}.dat\".format(i)\n",
    "    data = pd.read_csv(path)\n",
    "        \n",
    "    new = data[['MAC Address','RSSI']]\n",
    "    new = new.set_index('MAC Address')\n",
    "    vecdf = base\n",
    "    new = new['RSSI'].to_dict()\n",
    "    applist = []\n",
    "    for h in reflist:\n",
    "        toapp = 0\n",
    "        for x,y in new.items():\n",
    "            if x == h:\n",
    "                toapp = y\n",
    "        applist.append(toapp)\n",
    "    add = np.asarray(applist)\n",
    "    vecdf[('RSSI%d' % k)] = add\n",
    "## vecdf now refers to all rssi values sorted by scan and AP(MAC Address) for 1 vector\n",
    "## We must now transpose each df, find the average RSSI and append the resulting vector\n",
    "## to our final data df, then export as a csv\n",
    "vecdf = vecdf.T\n",
    "## replace all zero values with nan\n",
    "vecdf.replace(0, np.nan, inplace= True)\n",
    "## print(vecdf)\n",
    "## create the vector which will be fed to NN\n",
    "vec3 = []\n",
    "for column in vecdf:\n",
    "    avg = vecdf[column].mean()\n",
    "    vec3.append(avg)\n",
    "print(vec3)"
   ]
  },
  {
   "cell_type": "code",
   "execution_count": 27,
   "metadata": {},
   "outputs": [
    {
     "name": "stdout",
     "output_type": "stream",
     "text": [
      "[-47.5, -47.5, -44.6, -49.0, -54.5, -52.55555555555556, -53.1, -49.470588235294116]\n"
     ]
    }
   ],
   "source": [
    "## process a vector for testing (at ranloc 1)\n",
    "numdb = 20\n",
    "locPath = \"ranloc_1_test/\"\n",
    "for k in range(1,numdb+1):\n",
    "    dbPath = \"db%s.csv\" % k\n",
    "    path = locPath + dbPath\n",
    "    ## \"file_{}.dat\".format(i)\n",
    "    data = pd.read_csv(path)\n",
    "        \n",
    "    new = data[['MAC Address','RSSI']]\n",
    "    new = new.set_index('MAC Address')\n",
    "    vecdf = base\n",
    "    new = new['RSSI'].to_dict()\n",
    "    applist = []\n",
    "    for h in reflist:\n",
    "        toapp = 0\n",
    "        for x,y in new.items():\n",
    "            if x == h:\n",
    "                toapp = y\n",
    "        applist.append(toapp)\n",
    "    add = np.asarray(applist)\n",
    "    vecdf[('RSSI%d' % k)] = add\n",
    "## vecdf now refers to all rssi values sorted by scan and AP(MAC Address) for 1 vector\n",
    "## We must now transpose each df, find the average RSSI and append the resulting vector\n",
    "## to our final data df, then export as a csv\n",
    "vecdf = vecdf.T\n",
    "## replace all zero values with nan\n",
    "vecdf.replace(0, np.nan, inplace= True)\n",
    "## print(vecdf)\n",
    "## create the vector which will be fed to NN\n",
    "vec4 = []\n",
    "for column in vecdf:\n",
    "    avg = vecdf[column].mean()\n",
    "    vec4.append(avg)\n",
    "print(vec4)"
   ]
  },
  {
   "cell_type": "code",
   "execution_count": 28,
   "metadata": {},
   "outputs": [
    {
     "name": "stdout",
     "output_type": "stream",
     "text": [
      "[-45.333333333333336, -45.7, -49.8, -58.0, -59.0, -67.66666666666667, -52.25, -43.578947368421055]\n"
     ]
    }
   ],
   "source": [
    "## process a vector for testing (at ranloc 2)\n",
    "numdb = 20\n",
    "locPath = \"ranloc_2_test/\"\n",
    "for k in range(1,numdb+1):\n",
    "    dbPath = \"db%s.csv\" % k\n",
    "    path = locPath + dbPath\n",
    "    ## \"file_{}.dat\".format(i)\n",
    "    data = pd.read_csv(path)\n",
    "        \n",
    "    new = data[['MAC Address','RSSI']]\n",
    "    new = new.set_index('MAC Address')\n",
    "    vecdf = base\n",
    "    new = new['RSSI'].to_dict()\n",
    "    applist = []\n",
    "    for h in reflist:\n",
    "        toapp = 0\n",
    "        for x,y in new.items():\n",
    "            if x == h:\n",
    "                toapp = y\n",
    "        applist.append(toapp)\n",
    "    add = np.asarray(applist)\n",
    "    vecdf[('RSSI%d' % k)] = add\n",
    "## vecdf now refers to all rssi values sorted by scan and AP(MAC Address) for 1 vector\n",
    "## We must now transpose each df, find the average RSSI and append the resulting vector\n",
    "## to our final data df, then export as a csv\n",
    "vecdf = vecdf.T\n",
    "## replace all zero values with nan\n",
    "vecdf.replace(0, np.nan, inplace= True)\n",
    "## print(vecdf)\n",
    "## create the vector which will be fed to NN\n",
    "vec5 = []\n",
    "for column in vecdf:\n",
    "    avg = vecdf[column].mean()\n",
    "    vec5.append(avg)\n",
    "print(vec5)"
   ]
  },
  {
   "cell_type": "code",
   "execution_count": 30,
   "metadata": {},
   "outputs": [
    {
     "name": "stdout",
     "output_type": "stream",
     "text": [
      "   C0-56-27-18-69-66  C0-56-27-18-69-64  C0-56-27-1B-F3-F5  D8-84-66-13-10-00  \\\n",
      "0         -50.187500              -50.5         -53.526316             -55.25   \n",
      "1         -44.400000              -43.6         -52.900000             -56.05   \n",
      "2         -49.944444              -48.4         -48.550000             -50.30   \n",
      "3         -47.500000              -47.5         -44.600000             -49.00   \n",
      "4         -45.333333              -45.7         -49.800000             -58.00   \n",
      "\n",
      "   D8-84-66-13-10-08  D8-84-66-12-51-60  C0-56-27-18-69-65  C0-56-27-1B-9D-C5  \n",
      "0         -59.500000         -60.833333             -61.40         -48.400000  \n",
      "1         -53.333333         -58.578947             -49.50         -51.444444  \n",
      "2         -58.000000         -52.736842             -57.80         -49.263158  \n",
      "3         -54.500000         -52.555556             -53.10         -49.470588  \n",
      "4         -59.000000         -67.666667             -52.25         -43.578947  \n"
     ]
    }
   ],
   "source": [
    "vectors = [vec1,vec2,vec3,vec4,vec5]\n",
    "allvec=pd.DataFrame(vectors,columns=reflist)\n",
    "print(allvec)\n",
    "allvec.to_csv('testdata.csv', index=False)"
   ]
  },
  {
   "cell_type": "code",
   "execution_count": null,
   "metadata": {},
   "outputs": [],
   "source": []
  }
 ],
 "metadata": {
  "kernelspec": {
   "display_name": "Python 3",
   "language": "python",
   "name": "python3"
  },
  "language_info": {
   "codemirror_mode": {
    "name": "ipython",
    "version": 3
   },
   "file_extension": ".py",
   "mimetype": "text/x-python",
   "name": "python",
   "nbconvert_exporter": "python",
   "pygments_lexer": "ipython3",
   "version": "3.6.7"
  }
 },
 "nbformat": 4,
 "nbformat_minor": 2
}
