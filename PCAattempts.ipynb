{
 "cells": [
  {
   "cell_type": "code",
   "execution_count": 1,
   "metadata": {},
   "outputs": [
    {
     "name": "stderr",
     "output_type": "stream",
     "text": [
      "Using TensorFlow backend.\n"
     ]
    }
   ],
   "source": [
    "# For reading data sets from the web.\n",
    "import pandas\n",
    "# For lots of great things.\n",
    "import numpy as np\n",
    "# To make our plots.\n",
    "import matplotlib.pyplot as plt\n",
    "%matplotlib inline\n",
    "# Because sympy and LaTeX make\n",
    "# everything look wonderful!\n",
    "from sympy import *\n",
    "init_printing(use_latex=True)\n",
    "from IPython.display import display\n",
    "# We will use this to check our implementation...\n",
    "from sklearn.decomposition import PCA\n",
    "# We will grab another data set using Keras\n",
    "# after we finish up with Iris...\n",
    "import keras\n",
    "from sklearn import preprocessing"
   ]
  },
  {
   "cell_type": "markdown",
   "metadata": {},
   "source": [
    "# Attempt 1"
   ]
  },
  {
   "cell_type": "code",
   "execution_count": 23,
   "metadata": {},
   "outputs": [
    {
     "name": "stdout",
     "output_type": "stream",
     "text": [
      "[[1.       0.5      0.833333 0.944444 0.944444 0.972222 0.944444 0.916667\n",
      "  0.888889 0.916667 0.916667 0.916667 0.888889 0.888889 0.916667 0.888889\n",
      "  0.888889 0.916667 0.888889 0.888889 0.916667 0.916667 0.888889 0.888889\n",
      "  0.916667 0.916667 0.916667 0.916667 0.888889 0.944444 0.888889 0.888889\n",
      "  0.527778 0.888889 0.861111 0.888889 0.861111 0.861111 0.888889 0.888889\n",
      "  0.861111 0.444444 0.861111 0.888889 0.888889 0.888889 0.       0.\n",
      "  0.       0.      ]]\n",
      "[[0.984285 1.       0.977146 0.977146 0.977146 0.977146 0.977146 0.954291\n",
      "  0.954291 0.954291 0.954291 0.977146 0.977146 1.       0.954291 0.977146\n",
      "  0.954291 0.977146 0.954291 0.954291 0.954291 0.977146 0.977146 0.977146\n",
      "  0.954291 1.       0.954291 0.977146 0.977146 0.954291 0.977146 1.\n",
      "  0.954291 0.977146 0.954291 0.977146 0.954291 0.954291 0.908582 0.954291\n",
      "  0.977146 1.       0.       0.       0.       0.       0.       0.\n",
      "  0.       0.      ]]\n",
      "[[1.       1.       0.976378 0.976378 1.       1.       1.       1.\n",
      "  0.976378 1.       0.976378 0.905512 0.858268 1.       0.976378 0.976378\n",
      "  0.976378 0.976378 0.976378 0.976378 0.976378 0.976378 0.976378 0.976378\n",
      "  0.976378 0.976378 0.976378 0.952756 0.976378 0.976378 0.976378 0.976378\n",
      "  0.976378 0.976378 0.976378 0.88189  0.976378 1.       1.       1.\n",
      "  0.       0.       0.       0.       0.       0.       0.       0.\n",
      "  0.       0.      ]]\n"
     ]
    }
   ],
   "source": [
    "# import loc data\n",
    "loc_1 = np.array(pandas.read_csv(\"./location_1_data/loc1_train.csv\",\n",
    "    header=None))\n",
    "loc_2 = np.array(pandas.read_csv(\"./location_2_data/loc2_train.csv\",\n",
    "    header=None))\n",
    "loc_3 = np.array(pandas.read_csv(\"./location_3_data/loc3_train.csv\",\n",
    "    header=None))\n",
    "print(loc_1[:1])\n",
    "print(loc_2[:1])\n",
    "print(loc_3[:1])"
   ]
  },
  {
   "cell_type": "code",
   "execution_count": 24,
   "metadata": {},
   "outputs": [
    {
     "name": "stdout",
     "output_type": "stream",
     "text": [
      "(31, 50)\n",
      "(26, 50)\n",
      "(31, 50)\n"
     ]
    }
   ],
   "source": [
    "print(loc_1.shape)\n",
    "print(loc_2.shape)\n",
    "print(loc_3.shape)"
   ]
  },
  {
   "cell_type": "code",
   "execution_count": 43,
   "metadata": {},
   "outputs": [
    {
     "name": "stdout",
     "output_type": "stream",
     "text": [
      "(31, 30)\n"
     ]
    },
    {
     "data": {
      "image/png": "[encoded data removed]",
      "text/latex": [
       "$$\\left ( 31, \\quad 1\\right )$$"
      ],
      "text/plain": [
       "(31, 1)"
      ]
     },
     "execution_count": 43,
     "metadata": {},
     "output_type": "execute_result"
    }
   ],
   "source": [
    "# cut down loc data to first 30 entries\n",
    "loc_1 = loc_1[:,0:30]\n",
    "loc_2 = loc_2[:,0:30]\n",
    "loc_3 = loc_3[:,0:30]\n",
    "# create a label column to append to teh 30 features\n",
    "loc_1_app = np.full((31,1),0)\n",
    "loc_2_app = np.full((26,1),1)\n",
    "loc_3_app = np.full((31,1),2)\n",
    "print(loc_1.shape)\n",
    "loc_1_app.shape"
   ]
  },
  {
   "cell_type": "code",
   "execution_count": 44,
   "metadata": {},
   "outputs": [
    {
     "name": "stdout",
     "output_type": "stream",
     "text": [
      "(31, 31)\n",
      "[[1.       0.5      0.833333 0.944444 0.944444 0.972222 0.944444 0.916667\n",
      "  0.888889 0.916667 0.916667 0.916667 0.888889 0.888889 0.916667 0.888889\n",
      "  0.888889 0.916667 0.888889 0.888889 0.916667 0.916667 0.888889 0.888889\n",
      "  0.916667 0.916667 0.916667 0.916667 0.888889 0.944444 0.      ]\n",
      " [1.       0.972222 0.861111 0.805556 0.944444 0.944444 0.944444 0.916667\n",
      "  0.888889 0.888889 0.833333 0.833333 0.833333 0.888889 0.888889 0.888889\n",
      "  0.888889 0.833333 0.833333 0.888889 0.888889 0.888889 0.888889 0.888889\n",
      "  0.888889 0.861111 0.833333 0.888889 0.833333 0.888889 0.      ]\n",
      " [0.944444 0.944444 0.944444 0.944444 0.944444 0.944444 0.944444 0.944444\n",
      "  0.972222 0.944444 0.944444 0.944444 0.944444 0.944444 0.944444 0.944444\n",
      "  0.944444 0.944444 0.944444 0.944444 0.944444 0.972222 1.       0.972222\n",
      "  0.944444 0.944444 0.944444 0.944444 0.944444 0.972222 0.      ]]\n"
     ]
    }
   ],
   "source": [
    "# appended loc data\n",
    "loc_1_new = np.append(loc_1,loc_1_app,1)\n",
    "loc_2_new = np.append(loc_2,loc_2_app,1)\n",
    "loc_3_new = np.append(loc_3,loc_3_app,1)\n",
    "print(loc_1_new.shape)\n",
    "print(loc_1_new[:3])"
   ]
  },
  {
   "cell_type": "code",
   "execution_count": 45,
   "metadata": {},
   "outputs": [
    {
     "data": {
      "image/png": "[encoded data removed]",
      "text/latex": [
       "$$\\left ( 88, \\quad 31\\right )$$"
      ],
      "text/plain": [
       "(88, 31)"
      ]
     },
     "execution_count": 45,
     "metadata": {},
     "output_type": "execute_result"
    }
   ],
   "source": [
    "# concatenate all the locations into one data set\n",
    "data = np.concatenate((loc_1_new,loc_2_new,loc_3_new),axis=0)\n",
    "data.shape"
   ]
  },
  {
   "cell_type": "code",
   "execution_count": 46,
   "metadata": {},
   "outputs": [
    {
     "data": {
      "image/png": "[encoded data removed]",
      "text/latex": [
       "$$\\left ( 88, \\quad 30\\right )$$"
      ],
      "text/plain": [
       "(88, 30)"
      ]
     },
     "metadata": {},
     "output_type": "display_data"
    },
    {
     "data": {
      "image/png": "[encoded data removed]",
      "text/latex": [
       "$$\\left ( 88\\right )$$"
      ],
      "text/plain": [
       "(88,)"
      ]
     },
     "metadata": {},
     "output_type": "display_data"
    },
    {
     "data": {
      "text/latex": [
       "$$\\left[\\begin{matrix}0.0 & 1.0 & 2.0\\end{matrix}\\right]$$"
      ],
      "text/plain": [
       "[0.0  1.0  2.0]"
      ]
     },
     "metadata": {},
     "output_type": "display_data"
    }
   ],
   "source": [
    "# vectors AND class labels...\n",
    "X = data[:,0:30] # 0 thru 30\n",
    "Y = data[:,30] # 30\n",
    "# Pretty-print with display()!\n",
    "display(X.shape)\n",
    "display(Y.shape)\n",
    "display(Matrix(np.unique(Y)).T)"
   ]
  },
  {
   "cell_type": "code",
   "execution_count": 47,
   "metadata": {},
   "outputs": [],
   "source": [
    "# Mean center the vector - center data around 0\n",
    "def mean_center(x):\n",
    "    return x- np.mean(x)\n",
    "\n",
    "#Call for each col in the data (move along axis 0 or the rows)\n",
    "Xcentered = np.apply_along_axis(mean_center,0,X)"
   ]
  },
  {
   "cell_type": "code",
   "execution_count": 48,
   "metadata": {},
   "outputs": [
    {
     "data": {
      "image/png": "[encoded data removed]",
      "text/plain": [
       "<Figure size 432x288 with 1 Axes>"
      ]
     },
     "metadata": {
      "needs_background": "light"
     },
     "output_type": "display_data"
    }
   ],
   "source": [
    "U,S,V = np.linalg.svd(Xcentered,full_matrices=True)\n",
    "\n",
    "# Percent variance accounted for\n",
    "plt.plot(100.0*S/np.sum(S))\n",
    "plt.ylabel('% Var')\n",
    "plt.xlabel('Singular Value')\n",
    "plt.show()"
   ]
  },
  {
   "cell_type": "code",
   "execution_count": 49,
   "metadata": {},
   "outputs": [
    {
     "data": {
      "image/png": "[encoded data removed]",
      "text/latex": [
       "$$68.37844445058943$$"
      ],
      "text/plain": [
       "68.37844445058943"
      ]
     },
     "execution_count": 49,
     "metadata": {},
     "output_type": "execute_result"
    }
   ],
   "source": [
    "# Variance accounted for in the first two principal components\n",
    "100.0*(S[0]+S[1])/np.sum(S)"
   ]
  },
  {
   "cell_type": "code",
   "execution_count": 50,
   "metadata": {},
   "outputs": [
    {
     "data": {
      "image/png": "[encoded data removed]",
      "text/latex": [
       "$$\\left ( 88, \\quad 2\\right )$$"
      ],
      "text/plain": [
       "(88, 2)"
      ]
     },
     "execution_count": 50,
     "metadata": {},
     "output_type": "execute_result"
    }
   ],
   "source": [
    "# Scale the singular vectors, resulting in a rotated form of our mean-centered data\n",
    "D = np.zeros([X.shape[0],X.shape[1]])\n",
    "np.fill_diagonal(D,S)\n",
    "Xrotated = np.dot(U,D)\n",
    "# Extract just the first two principal components!\n",
    "PCs = Xrotated[:,0:2]\n",
    "PCs.shape"
   ]
  },
  {
   "cell_type": "code",
   "execution_count": 51,
   "metadata": {},
   "outputs": [
    {
     "data": {
      "image/png": "[encoded data removed]",
      "text/plain": [
       "<Figure size 432x288 with 1 Axes>"
      ]
     },
     "metadata": {
      "needs_background": "light"
     },
     "output_type": "display_data"
    }
   ],
   "source": [
    "# The x and y values come from the two\n",
    "# Principal Components and the colors for\n",
    "# each point are selected based on the\n",
    "# corresponding class for each point...\n",
    "plt.scatter(PCs[:,0],PCs[:,1],\n",
    "color=[['red','green','blue'][i] for i in Y.astype(int)])\n",
    "plt.xlabel(\"PC1\")\n",
    "plt.ylabel(\"PC2\")\n",
    "plt.show()"
   ]
  },
  {
   "cell_type": "markdown",
   "metadata": {},
   "source": [
    "# Attempt 2"
   ]
  },
  {
   "cell_type": "code",
   "execution_count": 26,
   "metadata": {},
   "outputs": [
    {
     "name": "stdout",
     "output_type": "stream",
     "text": [
      "[[-43.66666667 -47.4        -50.         -53.33333333 -55.2\n",
      "  -57.           0.        ]\n",
      " [-43.5        -46.25       -49.6        -54.         -54.8\n",
      "  -56.6          0.        ]\n",
      " [-43.66666667 -45.25       -50.2        -54.5        -55.\n",
      "  -55.8          0.        ]\n",
      " [-43.5        -47.         -52.6        -53.75       -54.8\n",
      "  -57.           0.        ]\n",
      " [-44.2        -46.25       -50.         -53.2        -54.4\n",
      "  -55.6          0.        ]]\n"
     ]
    },
    {
     "data": {
      "image/png": "[encoded data removed]",
      "text/latex": [
       "$$\\left ( 72, \\quad 7\\right )$$"
      ],
      "text/plain": [
       "(72, 7)"
      ]
     },
     "execution_count": 26,
     "metadata": {},
     "output_type": "execute_result"
    }
   ],
   "source": [
    "## load in data and split into x train and y train\n",
    "data = np.array(pandas.read_csv(\"trainingdata.csv\", header=0))\n",
    "print(data[:5])\n",
    "data.shape"
   ]
  },
  {
   "cell_type": "code",
   "execution_count": 27,
   "metadata": {},
   "outputs": [
    {
     "data": {
      "image/png": "[encoded data removed]",
      "text/latex": [
       "$$\\left ( 72, \\quad 6\\right )$$"
      ],
      "text/plain": [
       "(72, 6)"
      ]
     },
     "metadata": {},
     "output_type": "display_data"
    },
    {
     "data": {
      "image/png": "[encoded data removed]",
      "text/latex": [
       "$$\\left ( 72\\right )$$"
      ],
      "text/plain": [
       "(72,)"
      ]
     },
     "metadata": {},
     "output_type": "display_data"
    },
    {
     "data": {
      "text/latex": [
       "$$\\left[\\begin{matrix}0.0 & 1.0 & 2.0\\end{matrix}\\right]$$"
      ],
      "text/plain": [
       "[0.0  1.0  2.0]"
      ]
     },
     "metadata": {},
     "output_type": "display_data"
    }
   ],
   "source": [
    "# vectors AND class labels...\n",
    "X = data[:,0:6] # 0 thru 30\n",
    "Y = data[:,6] # 30\n",
    "# Pretty-print with display()!\n",
    "display(X.shape)\n",
    "display(Y.shape)\n",
    "display(Matrix(np.unique(Y)).T)"
   ]
  },
  {
   "cell_type": "code",
   "execution_count": 28,
   "metadata": {},
   "outputs": [],
   "source": [
    "# Mean center the vector - center data around 0\n",
    "def mean_center(x):\n",
    "    return x- np.mean(x)\n",
    "\n",
    "#Call for each col in the data (move along axis 0 or the rows)\n",
    "Xcentered = np.apply_along_axis(mean_center,0,X)"
   ]
  },
  {
   "cell_type": "code",
   "execution_count": 29,
   "metadata": {},
   "outputs": [
    {
     "data": {
      "image/png": "[encoded data removed]",
      "text/plain": [
       "<Figure size 432x288 with 1 Axes>"
      ]
     },
     "metadata": {
      "needs_background": "light"
     },
     "output_type": "display_data"
    }
   ],
   "source": [
    "U,S,V = np.linalg.svd(Xcentered,full_matrices=True)\n",
    "\n",
    "# Percent variance accounted for\n",
    "plt.plot(100.0*S/np.sum(S))\n",
    "plt.ylabel('% Var')\n",
    "plt.xlabel('Singular Value')\n",
    "plt.show()"
   ]
  },
  {
   "cell_type": "code",
   "execution_count": 30,
   "metadata": {},
   "outputs": [
    {
     "data": {
      "image/png": "[encoded data removed]",
      "text/latex": [
       "$$68.50724054659226$$"
      ],
      "text/plain": [
       "68.50724054659226"
      ]
     },
     "execution_count": 30,
     "metadata": {},
     "output_type": "execute_result"
    }
   ],
   "source": [
    "# Variance accounted for in the first two principal components\n",
    "100.0*(S[0]+S[1])/np.sum(S)"
   ]
  },
  {
   "cell_type": "code",
   "execution_count": 31,
   "metadata": {},
   "outputs": [
    {
     "data": {
      "image/png": "[encoded data removed]",
      "text/latex": [
       "$$\\left ( 72, \\quad 2\\right )$$"
      ],
      "text/plain": [
       "(72, 2)"
      ]
     },
     "execution_count": 31,
     "metadata": {},
     "output_type": "execute_result"
    }
   ],
   "source": [
    "# Scale the singular vectors, resulting in a rotated form of our mean-centered data\n",
    "D = np.zeros([X.shape[0],X.shape[1]])\n",
    "np.fill_diagonal(D,S)\n",
    "Xrotated = np.dot(U,D)\n",
    "# Extract just the first two principal components!\n",
    "PCs = Xrotated[:,0:2]\n",
    "PCs.shape"
   ]
  },
  {
   "cell_type": "code",
   "execution_count": 32,
   "metadata": {},
   "outputs": [
    {
     "data": {
      "image/png": "[encoded data removed]",
      "text/plain": [
       "<Figure size 432x288 with 1 Axes>"
      ]
     },
     "metadata": {
      "needs_background": "light"
     },
     "output_type": "display_data"
    }
   ],
   "source": [
    "# The x and y values come from the two\n",
    "# Principal Components and the colors for\n",
    "# each point are selected based on the\n",
    "# corresponding class for each point...\n",
    "plt.scatter(PCs[:,0],PCs[:,1],\n",
    "color=[['red','green','blue'][i] for i in Y.astype(int)])\n",
    "plt.xlabel(\"PC1\")\n",
    "plt.ylabel(\"PC2\")\n",
    "plt.show()"
   ]
  },
  {
   "cell_type": "code",
   "execution_count": null,
   "metadata": {},
   "outputs": [],
   "source": []
  }
 ],
 "metadata": {
  "kernelspec": {
   "display_name": "Python 3",
   "language": "python",
   "name": "python3"
  },
  "language_info": {
   "codemirror_mode": {
    "name": "ipython",
    "version": 3
   },
   "file_extension": ".py",
   "mimetype": "text/x-python",
   "name": "python",
   "nbconvert_exporter": "python",
   "pygments_lexer": "ipython3",
   "version": "3.6.7"
  }
 },
 "nbformat": 4,
 "nbformat_minor": 2
}
