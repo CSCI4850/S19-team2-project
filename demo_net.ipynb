{
 "cells": [
  {
   "cell_type": "code",
   "execution_count": 1,
   "metadata": {},
   "outputs": [
    {
     "name": "stderr",
     "output_type": "stream",
     "text": [
      "Using TensorFlow backend.\n"
     ]
    }
   ],
   "source": [
    "import numpy as np\n",
    "import keras\n",
    "import pandas\n",
    "from sklearn import preprocessing\n",
    "from sklearn.preprocessing import StandardScaler"
   ]
  },
  {
   "cell_type": "code",
   "execution_count": 16,
   "metadata": {},
   "outputs": [
    {
     "name": "stdout",
     "output_type": "stream",
     "text": [
      "(14, 8)\n",
      "(36, 8)\n"
     ]
    }
   ],
   "source": [
    "## bring in data to scale so that testing data is transformed with the same scaling function\n",
    "data = np.array(pandas.read_csv(\"./training_noavg.csv\", header=0))\n",
    "## Have to drop all the rows that have nan values because they will not help with net\n",
    "## clean out rows with nan values\n",
    "data = data[~np.isnan(data).any(axis=1)]\n",
    "X = data[:,0:8]\n",
    "\n",
    "scaler = StandardScaler()\n",
    "X = scaler.fit_transform(X)\n",
    "\n",
    "test1 = np.array(pandas.read_csv(\"./test1.csv\", header=0))\n",
    "test2 = np.array(pandas.read_csv(\"./test2.csv\", header=0))\n",
    "test3 = np.array(pandas.read_csv(\"./test3.csv\", header=0))\n",
    "test1 = test1[:,0:8]\n",
    "test2 = test2[:,0:8]\n",
    "test3 = test3[:,0:8]\n",
    "test1 = test1[~np.isnan(test1).any(axis=1)]\n",
    "test2 = test2[~np.isnan(test2).any(axis=1)]\n",
    "test3 = test3[~np.isnan(test3).any(axis=1)]\n",
    "print(test1.shape)\n",
    "test = np.vstack((test1,test2,test3))\n",
    "\n",
    "test = scaler.transform( test )\n",
    "\n",
    "print(test.shape)"
   ]
  },
  {
   "cell_type": "code",
   "execution_count": 17,
   "metadata": {},
   "outputs": [],
   "source": [
    "model = keras.models.load_model('MLN.model')\n",
    "model.load_weights('MLN.weights')"
   ]
  },
  {
   "cell_type": "code",
   "execution_count": 19,
   "metadata": {},
   "outputs": [
    {
     "name": "stdout",
     "output_type": "stream",
     "text": [
      "36/36 [==============================] - 1s 21ms/step\n",
      "0\n",
      "[9.9972159e-01 1.5968618e-04 1.1864946e-04]\n",
      "0\n",
      "[9.99707758e-01 1.87634781e-04 1.04638755e-04]\n",
      "0\n",
      "[9.9789029e-01 7.2141958e-04 1.3882895e-03]\n",
      "0\n",
      "[9.989511e-01 5.167439e-04 5.322162e-04]\n",
      "0\n",
      "[9.9261510e-01 7.5424381e-04 6.6306996e-03]\n",
      "0\n",
      "[9.9920374e-01 4.3745179e-04 3.5875969e-04]\n",
      "0\n",
      "[0.9904212  0.00144124 0.0081375 ]\n",
      "0\n",
      "[9.9963927e-01 1.9248696e-04 1.6824802e-04]\n",
      "0\n",
      "[9.9928242e-01 3.0315580e-04 4.1447039e-04]\n",
      "0\n",
      "[9.9974638e-01 1.5775024e-04 9.5761425e-05]\n",
      "0\n",
      "[9.9973148e-01 1.6664247e-04 1.0195105e-04]\n",
      "0\n",
      "[9.9973720e-01 1.7404708e-04 8.8845729e-05]\n",
      "0\n",
      "[9.9970835e-01 1.6403901e-04 1.2761576e-04]\n",
      "0\n",
      "[9.9974662e-01 1.7622366e-04 7.7121040e-05]\n",
      "1\n",
      "[0.00153411 0.995652   0.00281398]\n",
      "1\n",
      "[6.160449e-04 9.987489e-01 6.350375e-04]\n",
      "1\n",
      "[3.9185164e-04 9.9923086e-01 3.7728454e-04]\n",
      "1\n",
      "[2.7163792e-04 9.9942029e-01 3.0804746e-04]\n",
      "1\n",
      "[2.1198661e-04 9.9958497e-01 2.0300722e-04]\n",
      "1\n",
      "[5.1277818e-04 9.9856216e-01 9.2505309e-04]\n",
      "1\n",
      "[5.6899071e-04 9.9885035e-01 5.8059767e-04]\n",
      "1\n",
      "[5.9407944e-04 9.9840987e-01 9.9612435e-04]\n",
      "1\n",
      "[1.9460864e-04 9.9963331e-01 1.7212275e-04]\n",
      "1\n",
      "[1.9524986e-04 9.9964595e-01 1.5883044e-04]\n",
      "1\n",
      "[0.00122977 0.9976331  0.00113714]\n",
      "2\n",
      "[0.00764636 0.18166819 0.81068546]\n",
      "2\n",
      "[3.4702296e-04 1.4098064e-04 9.9951196e-01]\n",
      "2\n",
      "[0.00574952 0.00794102 0.9863094 ]\n",
      "2\n",
      "[0.00104963 0.00184738 0.99710304]\n",
      "2\n",
      "[2.5502822e-04 4.6062079e-04 9.9928433e-01]\n",
      "2\n",
      "[6.8109564e-04 6.4133300e-04 9.9867755e-01]\n",
      "2\n",
      "[1.3778178e-03 2.6749578e-04 9.9835461e-01]\n",
      "2\n",
      "[7.2980544e-04 3.2163865e-04 9.9894863e-01]\n",
      "2\n",
      "[4.0885728e-04 5.9418473e-04 9.9899691e-01]\n",
      "2\n",
      "[4.1726942e-04 2.4158432e-04 9.9934107e-01]\n",
      "2\n",
      "[6.9952821e-03 5.3660036e-04 9.9246806e-01]\n"
     ]
    }
   ],
   "source": [
    "preds = model.predict(test, batch_size=1, verbose=1, steps=None)\n",
    "\n",
    "#print('Predicted:', preds[:])\n",
    "for i in range(0,36):\n",
    "    print(np.argmax(preds[i,]))\n",
    "    print(preds[i])"
   ]
  },
  {
   "cell_type": "code",
   "execution_count": null,
   "metadata": {},
   "outputs": [],
   "source": []
  }
 ],
 "metadata": {
  "kernelspec": {
   "display_name": "Python 3",
   "language": "python",
   "name": "python3"
  },
  "language_info": {
   "codemirror_mode": {
    "name": "ipython",
    "version": 3
   },
   "file_extension": ".py",
   "mimetype": "text/x-python",
   "name": "python",
   "nbconvert_exporter": "python",
   "pygments_lexer": "ipython3",
   "version": "3.6.7"
  }
 },
 "nbformat": 4,
 "nbformat_minor": 2
}
