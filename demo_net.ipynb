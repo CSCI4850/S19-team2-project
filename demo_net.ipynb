{
 "cells": [
  {
   "cell_type": "code",
   "execution_count": 5,
   "metadata": {},
   "outputs": [],
   "source": [
    "import numpy as np\n",
    "import keras\n",
    "import pandas\n",
    "from sklearn import preprocessing"
   ]
  },
  {
   "cell_type": "code",
   "execution_count": 6,
   "metadata": {},
   "outputs": [
    {
     "name": "stdout",
     "output_type": "stream",
     "text": [
      "(5, 8)\n"
     ]
    }
   ],
   "source": [
    "test = np.array(pandas.read_csv(\"~/S19-team2-project/testdata.csv\", header=0))\n",
    "print(test.shape)"
   ]
  },
  {
   "cell_type": "code",
   "execution_count": 7,
   "metadata": {},
   "outputs": [],
   "source": [
    "model = keras.models.load_model('MLN.model')\n",
    "model.load_weights('MLN.weights')"
   ]
  },
  {
   "cell_type": "code",
   "execution_count": 28,
   "metadata": {},
   "outputs": [
    {
     "name": "stdout",
     "output_type": "stream",
     "text": [
      "5/5 [==============================] - 0s 5ms/step\n",
      "Predicted: [[9.9932134e-01 1.8115676e-04 4.9745210e-04]\n",
      " [9.9932361e-01 1.8151272e-04 4.9483951e-04]\n",
      " [9.9931884e-01 1.8075264e-04 5.0044531e-04]\n",
      " [9.9932086e-01 1.8107945e-04 4.9802195e-04]\n",
      " [9.9932349e-01 1.8149643e-04 4.9496116e-04]]\n"
     ]
    }
   ],
   "source": [
    "preds = model.predict(test, batch_size=1, verbose=1, steps=None)\n",
    "\n",
    "print('Predicted:', preds[:])"
   ]
  },
  {
   "cell_type": "code",
   "execution_count": null,
   "metadata": {},
   "outputs": [],
   "source": []
  }
 ],
 "metadata": {
  "kernelspec": {
   "display_name": "Python 3",
   "language": "python",
   "name": "python3"
  },
  "language_info": {
   "codemirror_mode": {
    "name": "ipython",
    "version": 3
   },
   "file_extension": ".py",
   "mimetype": "text/x-python",
   "name": "python",
   "nbconvert_exporter": "python",
   "pygments_lexer": "ipython3",
   "version": "3.6.7"
  }
 },
 "nbformat": 4,
 "nbformat_minor": 2
}
